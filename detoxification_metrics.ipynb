{
 "cells": [
  {
   "cell_type": "markdown",
   "metadata": {
    "id": "Z2WtglGzGg4-"
   },
   "source": [
    "**ATTENTION!!!**\n",
    "BE SURE that your runtime is GPU."
   ]
  },
  {
   "cell_type": "code",
   "execution_count": null,
   "metadata": {
    "id": "EPEiLVg2Fsxc"
   },
   "outputs": [],
   "source": [
    "# if you are using this script on server you can specify th visible free cuda device\n",
    "# the memory usage of devices and their id can be checked with 'nvidia-smi' or 'nvidia-cdl' commands \n",
    "\n",
    "# import os\n",
    "# os.environ['CUDA_VISIBLE_DEVICES'] = '2' # here the id of the device"
   ]
  },
  {
   "cell_type": "markdown",
   "metadata": {
    "id": "WrUkltbKLWq2"
   },
   "source": [
    "### Cloning repo from git\n",
    "\n",
    "This operation requires that you have access to the repo [paradetox](https://github.com/skoltech-nlp/paradetox/).\n",
    "\n",
    "Generate (or use already existing) your GitHub access token. \n",
    "\n",
    "If you need to generate new one, you can use the [instruction](https://docs.github.com/en/authentication/keeping-your-account-and-data-secure/creating-a-personal-access-token)."
   ]
  },
  {
   "cell_type": "code",
   "execution_count": 1,
   "metadata": {
    "colab": {
     "base_uri": "https://localhost:8080/"
    },
    "executionInfo": {
     "elapsed": 10,
     "status": "ok",
     "timestamp": 1680821378994,
     "user": {
      "displayName": "Weizhen Jin",
      "userId": "10303874564751550516"
     },
     "user_tz": 240
    },
    "id": "l9yHshi88fj3",
    "outputId": "8256bb8a-0ae6-4486-d208-97937053ebb3"
   },
   "outputs": [
    {
     "name": "stderr",
     "output_type": "stream",
     "text": [
      "fatal: destination path 'paradetox' already exists and is not an empty directory.\n"
     ]
    }
   ],
   "source": [
    "!git clone https://Rookie20001122@github.com/skoltech-nlp/paradetox.git"
   ]
  },
  {
   "cell_type": "markdown",
   "metadata": {
    "id": "gQbDSz4nLnus"
   },
   "source": [
    "### Installing required libs"
   ]
  },
  {
   "cell_type": "code",
   "execution_count": 17,
   "metadata": {
    "colab": {
     "base_uri": "https://localhost:8080/"
    },
    "executionInfo": {
     "elapsed": 86217,
     "status": "ok",
     "timestamp": 1680821467368,
     "user": {
      "displayName": "Weizhen Jin",
      "userId": "10303874564751550516"
     },
     "user_tz": 240
    },
    "id": "NmxgPN3Z82Bp",
    "outputId": "2ea8d6ed-fc3c-4198-d69b-02d7e1e1fd82"
   },
   "outputs": [
    {
     "name": "stdout",
     "output_type": "stream",
     "text": [
      "Requirement already satisfied: transformers in c:\\users\\weizhen jin\\anaconda3\\envs\\eecs448\\lib\\site-packages (4.27.4)\n",
      "Requirement already satisfied: pyyaml>=5.1 in c:\\users\\weizhen jin\\anaconda3\\envs\\eecs448\\lib\\site-packages (from transformers) (6.0)\n",
      "Requirement already satisfied: tqdm>=4.27 in c:\\users\\weizhen jin\\anaconda3\\envs\\eecs448\\lib\\site-packages (from transformers) (4.64.1)\n",
      "Requirement already satisfied: requests in c:\\users\\weizhen jin\\anaconda3\\envs\\eecs448\\lib\\site-packages (from transformers) (2.28.1)\n",
      "Requirement already satisfied: numpy>=1.17 in c:\\users\\weizhen jin\\anaconda3\\envs\\eecs448\\lib\\site-packages (from transformers) (1.23.5)\n",
      "Requirement already satisfied: packaging>=20.0 in c:\\users\\weizhen jin\\anaconda3\\envs\\eecs448\\lib\\site-packages (from transformers) (22.0)\n",
      "Requirement already satisfied: huggingface-hub<1.0,>=0.11.0 in c:\\users\\weizhen jin\\anaconda3\\envs\\eecs448\\lib\\site-packages (from transformers) (0.13.4)\n",
      "Requirement already satisfied: tokenizers!=0.11.3,<0.14,>=0.11.1 in c:\\users\\weizhen jin\\anaconda3\\envs\\eecs448\\lib\\site-packages (from transformers) (0.13.3)\n",
      "Requirement already satisfied: regex!=2019.12.17 in c:\\users\\weizhen jin\\anaconda3\\envs\\eecs448\\lib\\site-packages (from transformers) (2022.10.31)\n",
      "Requirement already satisfied: filelock in c:\\users\\weizhen jin\\anaconda3\\envs\\eecs448\\lib\\site-packages (from transformers) (3.11.0)\n",
      "Requirement already satisfied: typing-extensions>=3.7.4.3 in c:\\users\\weizhen jin\\anaconda3\\envs\\eecs448\\lib\\site-packages (from huggingface-hub<1.0,>=0.11.0->transformers) (4.4.0)\n",
      "Requirement already satisfied: colorama in c:\\users\\weizhen jin\\anaconda3\\envs\\eecs448\\lib\\site-packages (from tqdm>=4.27->transformers) (0.4.6)\n",
      "Requirement already satisfied: urllib3<1.27,>=1.21.1 in c:\\users\\weizhen jin\\anaconda3\\envs\\eecs448\\lib\\site-packages (from requests->transformers) (1.26.13)\n",
      "Requirement already satisfied: certifi>=2017.4.17 in c:\\users\\weizhen jin\\anaconda3\\envs\\eecs448\\lib\\site-packages (from requests->transformers) (2022.12.7)\n",
      "Requirement already satisfied: charset-normalizer<3,>=2 in c:\\users\\weizhen jin\\anaconda3\\envs\\eecs448\\lib\\site-packages (from requests->transformers) (2.1.1)\n",
      "Requirement already satisfied: idna<4,>=2.5 in c:\\users\\weizhen jin\\anaconda3\\envs\\eecs448\\lib\\site-packages (from requests->transformers) (3.4)\n",
      "Requirement already satisfied: python-box in c:\\users\\weizhen jin\\anaconda3\\envs\\eecs448\\lib\\site-packages (7.0.1)\n",
      "Requirement already satisfied: flair in c:\\users\\weizhen jin\\anaconda3\\envs\\eecs448\\lib\\site-packages (0.12.2)\n",
      "Requirement already satisfied: hyperopt>=0.2.7 in c:\\users\\weizhen jin\\anaconda3\\envs\\eecs448\\lib\\site-packages (from flair) (0.2.7)\n",
      "Requirement already satisfied: scikit-learn>=0.21.3 in c:\\users\\weizhen jin\\anaconda3\\envs\\eecs448\\lib\\site-packages (from flair) (1.2.0)\n",
      "Requirement already satisfied: langdetect in c:\\users\\weizhen jin\\anaconda3\\envs\\eecs448\\lib\\site-packages (from flair) (1.0.9)\n",
      "Requirement already satisfied: gensim>=3.8.0 in c:\\users\\weizhen jin\\anaconda3\\envs\\eecs448\\lib\\site-packages (from flair) (4.3.1)\n",
      "Requirement already satisfied: mpld3==0.3 in c:\\users\\weizhen jin\\anaconda3\\envs\\eecs448\\lib\\site-packages (from flair) (0.3)\n",
      "Requirement already satisfied: wikipedia-api in c:\\users\\weizhen jin\\anaconda3\\envs\\eecs448\\lib\\site-packages (from flair) (0.5.8)\n",
      "Requirement already satisfied: python-dateutil>=2.6.1 in c:\\users\\weizhen jin\\anaconda3\\envs\\eecs448\\lib\\site-packages (from flair) (2.8.2)\n",
      "Requirement already satisfied: bpemb>=0.3.2 in c:\\users\\weizhen jin\\anaconda3\\envs\\eecs448\\lib\\site-packages (from flair) (0.3.4)\n",
      "Requirement already satisfied: janome in c:\\users\\weizhen jin\\anaconda3\\envs\\eecs448\\lib\\site-packages (from flair) (0.4.2)\n",
      "Requirement already satisfied: torch!=1.8,>=1.5.0 in c:\\users\\weizhen jin\\anaconda3\\envs\\eecs448\\lib\\site-packages (from flair) (2.0.0)\n",
      "Requirement already satisfied: matplotlib>=2.2.3 in c:\\users\\weizhen jin\\anaconda3\\envs\\eecs448\\lib\\site-packages (from flair) (3.6.2)\n",
      "Requirement already satisfied: tqdm>=4.26.0 in c:\\users\\weizhen jin\\anaconda3\\envs\\eecs448\\lib\\site-packages (from flair) (4.64.1)\n",
      "Requirement already satisfied: transformers[sentencepiece]>=4.18.0 in c:\\users\\weizhen jin\\anaconda3\\envs\\eecs448\\lib\\site-packages (from flair) (4.27.4)\n",
      "Requirement already satisfied: gdown==4.4.0 in c:\\users\\weizhen jin\\anaconda3\\envs\\eecs448\\lib\\site-packages (from flair) (4.4.0)\n",
      "Requirement already satisfied: boto3 in c:\\users\\weizhen jin\\anaconda3\\envs\\eecs448\\lib\\site-packages (from flair) (1.26.41)\n",
      "Requirement already satisfied: lxml in c:\\users\\weizhen jin\\anaconda3\\envs\\eecs448\\lib\\site-packages (from flair) (4.9.2)\n",
      "Requirement already satisfied: tabulate in c:\\users\\weizhen jin\\anaconda3\\envs\\eecs448\\lib\\site-packages (from flair) (0.9.0)\n",
      "Requirement already satisfied: more-itertools in c:\\users\\weizhen jin\\anaconda3\\envs\\eecs448\\lib\\site-packages (from flair) (9.1.0)\n",
      "Requirement already satisfied: transformer-smaller-training-vocab>=0.2.1 in c:\\users\\weizhen jin\\anaconda3\\envs\\eecs448\\lib\\site-packages (from flair) (0.2.3)\n",
      "Requirement already satisfied: sqlitedict>=1.6.0 in c:\\users\\weizhen jin\\anaconda3\\envs\\eecs448\\lib\\site-packages (from flair) (2.1.0)\n",
      "Requirement already satisfied: pptree in c:\\users\\weizhen jin\\anaconda3\\envs\\eecs448\\lib\\site-packages (from flair) (3.1)\n",
      "Requirement already satisfied: huggingface-hub>=0.10.0 in c:\\users\\weizhen jin\\anaconda3\\envs\\eecs448\\lib\\site-packages (from flair) (0.13.4)\n",
      "Requirement already satisfied: conllu>=4.0 in c:\\users\\weizhen jin\\anaconda3\\envs\\eecs448\\lib\\site-packages (from flair) (4.5.2)\n",
      "Requirement already satisfied: segtok>=1.5.7 in c:\\users\\weizhen jin\\anaconda3\\envs\\eecs448\\lib\\site-packages (from flair) (1.5.11)\n",
      "Requirement already satisfied: ftfy in c:\\users\\weizhen jin\\anaconda3\\envs\\eecs448\\lib\\site-packages (from flair) (6.1.1)\n",
      "Requirement already satisfied: deprecated>=1.2.4 in c:\\users\\weizhen jin\\anaconda3\\envs\\eecs448\\lib\\site-packages (from flair) (1.2.13)\n",
      "Requirement already satisfied: pytorch-revgrad in c:\\users\\weizhen jin\\anaconda3\\envs\\eecs448\\lib\\site-packages (from flair) (0.2.0)\n",
      "Requirement already satisfied: regex in c:\\users\\weizhen jin\\anaconda3\\envs\\eecs448\\lib\\site-packages (from flair) (2022.10.31)\n",
      "Requirement already satisfied: beautifulsoup4 in c:\\users\\weizhen jin\\anaconda3\\envs\\eecs448\\lib\\site-packages (from gdown==4.4.0->flair) (4.11.1)\n",
      "Requirement already satisfied: six in c:\\users\\weizhen jin\\anaconda3\\envs\\eecs448\\lib\\site-packages (from gdown==4.4.0->flair) (1.16.0)\n",
      "Requirement already satisfied: filelock in c:\\users\\weizhen jin\\anaconda3\\envs\\eecs448\\lib\\site-packages (from gdown==4.4.0->flair) (3.11.0)\n",
      "Requirement already satisfied: requests[socks] in c:\\users\\weizhen jin\\anaconda3\\envs\\eecs448\\lib\\site-packages (from gdown==4.4.0->flair) (2.28.1)\n",
      "Requirement already satisfied: numpy in c:\\users\\weizhen jin\\anaconda3\\envs\\eecs448\\lib\\site-packages (from bpemb>=0.3.2->flair) (1.23.5)\n",
      "Requirement already satisfied: sentencepiece in c:\\users\\weizhen jin\\anaconda3\\envs\\eecs448\\lib\\site-packages (from bpemb>=0.3.2->flair) (0.1.97)\n",
      "Requirement already satisfied: wrapt<2,>=1.10 in c:\\users\\weizhen jin\\anaconda3\\envs\\eecs448\\lib\\site-packages (from deprecated>=1.2.4->flair) (1.15.0)\n",
      "Requirement already satisfied: scipy>=1.7.0 in c:\\users\\weizhen jin\\anaconda3\\envs\\eecs448\\lib\\site-packages (from gensim>=3.8.0->flair) (1.9.3)\n",
      "Requirement already satisfied: smart-open>=1.8.1 in c:\\users\\weizhen jin\\anaconda3\\envs\\eecs448\\lib\\site-packages (from gensim>=3.8.0->flair) (6.3.0)\n",
      "Requirement already satisfied: typing-extensions>=3.7.4.3 in c:\\users\\weizhen jin\\anaconda3\\envs\\eecs448\\lib\\site-packages (from huggingface-hub>=0.10.0->flair) (4.4.0)\n",
      "Requirement already satisfied: pyyaml>=5.1 in c:\\users\\weizhen jin\\anaconda3\\envs\\eecs448\\lib\\site-packages (from huggingface-hub>=0.10.0->flair) (6.0)\n",
      "Requirement already satisfied: packaging>=20.9 in c:\\users\\weizhen jin\\anaconda3\\envs\\eecs448\\lib\\site-packages (from huggingface-hub>=0.10.0->flair) (22.0)\n",
      "Requirement already satisfied: networkx>=2.2 in c:\\users\\weizhen jin\\anaconda3\\envs\\eecs448\\lib\\site-packages (from hyperopt>=0.2.7->flair) (3.1)\n",
      "Requirement already satisfied: future in c:\\users\\weizhen jin\\anaconda3\\envs\\eecs448\\lib\\site-packages (from hyperopt>=0.2.7->flair) (0.18.3)\n",
      "Requirement already satisfied: cloudpickle in c:\\users\\weizhen jin\\anaconda3\\envs\\eecs448\\lib\\site-packages (from hyperopt>=0.2.7->flair) (2.2.1)\n",
      "Requirement already satisfied: py4j in c:\\users\\weizhen jin\\anaconda3\\envs\\eecs448\\lib\\site-packages (from hyperopt>=0.2.7->flair) (0.10.9.7)\n",
      "Requirement already satisfied: kiwisolver>=1.0.1 in c:\\users\\weizhen jin\\anaconda3\\envs\\eecs448\\lib\\site-packages (from matplotlib>=2.2.3->flair) (1.4.4)\n",
      "Requirement already satisfied: pyparsing>=2.2.1 in c:\\users\\weizhen jin\\anaconda3\\envs\\eecs448\\lib\\site-packages (from matplotlib>=2.2.3->flair) (3.0.9)\n",
      "Requirement already satisfied: cycler>=0.10 in c:\\users\\weizhen jin\\anaconda3\\envs\\eecs448\\lib\\site-packages (from matplotlib>=2.2.3->flair) (0.11.0)\n",
      "Requirement already satisfied: pillow>=6.2.0 in c:\\users\\weizhen jin\\anaconda3\\envs\\eecs448\\lib\\site-packages (from matplotlib>=2.2.3->flair) (9.3.0)\n",
      "Requirement already satisfied: fonttools>=4.22.0 in c:\\users\\weizhen jin\\anaconda3\\envs\\eecs448\\lib\\site-packages (from matplotlib>=2.2.3->flair) (4.38.0)\n",
      "Requirement already satisfied: contourpy>=1.0.1 in c:\\users\\weizhen jin\\anaconda3\\envs\\eecs448\\lib\\site-packages (from matplotlib>=2.2.3->flair) (1.0.6)\n",
      "Requirement already satisfied: threadpoolctl>=2.0.0 in c:\\users\\weizhen jin\\anaconda3\\envs\\eecs448\\lib\\site-packages (from scikit-learn>=0.21.3->flair) (3.1.0)\n",
      "Requirement already satisfied: joblib>=1.1.1 in c:\\users\\weizhen jin\\anaconda3\\envs\\eecs448\\lib\\site-packages (from scikit-learn>=0.21.3->flair) (1.2.0)\n",
      "Requirement already satisfied: sympy in c:\\users\\weizhen jin\\anaconda3\\envs\\eecs448\\lib\\site-packages (from torch!=1.8,>=1.5.0->flair) (1.11.1)\n",
      "Requirement already satisfied: jinja2 in c:\\users\\weizhen jin\\anaconda3\\envs\\eecs448\\lib\\site-packages (from torch!=1.8,>=1.5.0->flair) (3.1.2)\n",
      "Requirement already satisfied: colorama in c:\\users\\weizhen jin\\anaconda3\\envs\\eecs448\\lib\\site-packages (from tqdm>=4.26.0->flair) (0.4.6)\n",
      "Requirement already satisfied: datasets<3.0.0,>=2.0.0 in c:\\users\\weizhen jin\\anaconda3\\envs\\eecs448\\lib\\site-packages (from transformer-smaller-training-vocab>=0.2.1->flair) (2.11.0)\n",
      "Requirement already satisfied: tokenizers!=0.11.3,<0.14,>=0.11.1 in c:\\users\\weizhen jin\\anaconda3\\envs\\eecs448\\lib\\site-packages (from transformers[sentencepiece]>=4.18.0->flair) (0.13.3)\n",
      "Requirement already satisfied: protobuf<=3.20.2 in c:\\users\\weizhen jin\\anaconda3\\envs\\eecs448\\lib\\site-packages (from transformers[sentencepiece]>=4.18.0->flair) (3.20.2)\n",
      "Requirement already satisfied: jmespath<2.0.0,>=0.7.1 in c:\\users\\weizhen jin\\anaconda3\\envs\\eecs448\\lib\\site-packages (from boto3->flair) (1.0.1)\n",
      "Requirement already satisfied: botocore<1.30.0,>=1.29.41 in c:\\users\\weizhen jin\\anaconda3\\envs\\eecs448\\lib\\site-packages (from boto3->flair) (1.29.41)\n",
      "Requirement already satisfied: s3transfer<0.7.0,>=0.6.0 in c:\\users\\weizhen jin\\anaconda3\\envs\\eecs448\\lib\\site-packages (from boto3->flair) (0.6.0)\n",
      "Requirement already satisfied: wcwidth>=0.2.5 in c:\\users\\weizhen jin\\anaconda3\\envs\\eecs448\\lib\\site-packages (from ftfy->flair) (0.2.5)\n",
      "Requirement already satisfied: urllib3<1.27,>=1.25.4 in c:\\users\\weizhen jin\\anaconda3\\envs\\eecs448\\lib\\site-packages (from botocore<1.30.0,>=1.29.41->boto3->flair) (1.26.13)\n",
      "Requirement already satisfied: xxhash in c:\\users\\weizhen jin\\anaconda3\\envs\\eecs448\\lib\\site-packages (from datasets<3.0.0,>=2.0.0->transformer-smaller-training-vocab>=0.2.1->flair) (3.2.0)\n",
      "Requirement already satisfied: responses<0.19 in c:\\users\\weizhen jin\\anaconda3\\envs\\eecs448\\lib\\site-packages (from datasets<3.0.0,>=2.0.0->transformer-smaller-training-vocab>=0.2.1->flair) (0.18.0)\n",
      "Requirement already satisfied: dill<0.3.7,>=0.3.0 in c:\\users\\weizhen jin\\anaconda3\\envs\\eecs448\\lib\\site-packages (from datasets<3.0.0,>=2.0.0->transformer-smaller-training-vocab>=0.2.1->flair) (0.3.6)\n",
      "Requirement already satisfied: aiohttp in c:\\users\\weizhen jin\\anaconda3\\envs\\eecs448\\lib\\site-packages (from datasets<3.0.0,>=2.0.0->transformer-smaller-training-vocab>=0.2.1->flair) (3.8.4)\n",
      "Requirement already satisfied: fsspec[http]>=2021.11.1 in c:\\users\\weizhen jin\\anaconda3\\envs\\eecs448\\lib\\site-packages (from datasets<3.0.0,>=2.0.0->transformer-smaller-training-vocab>=0.2.1->flair) (2023.3.0)\n",
      "Requirement already satisfied: pyarrow>=8.0.0 in c:\\users\\weizhen jin\\anaconda3\\envs\\eecs448\\lib\\site-packages (from datasets<3.0.0,>=2.0.0->transformer-smaller-training-vocab>=0.2.1->flair) (11.0.0)\n",
      "Requirement already satisfied: pandas in c:\\users\\weizhen jin\\anaconda3\\envs\\eecs448\\lib\\site-packages (from datasets<3.0.0,>=2.0.0->transformer-smaller-training-vocab>=0.2.1->flair) (1.5.2)\n",
      "Requirement already satisfied: multiprocess in c:\\users\\weizhen jin\\anaconda3\\envs\\eecs448\\lib\\site-packages (from datasets<3.0.0,>=2.0.0->transformer-smaller-training-vocab>=0.2.1->flair) (0.70.14)\n",
      "Requirement already satisfied: charset-normalizer<3,>=2 in c:\\users\\weizhen jin\\anaconda3\\envs\\eecs448\\lib\\site-packages (from requests[socks]->gdown==4.4.0->flair) (2.1.1)\n",
      "Requirement already satisfied: certifi>=2017.4.17 in c:\\users\\weizhen jin\\anaconda3\\envs\\eecs448\\lib\\site-packages (from requests[socks]->gdown==4.4.0->flair) (2022.12.7)\n",
      "Requirement already satisfied: idna<4,>=2.5 in c:\\users\\weizhen jin\\anaconda3\\envs\\eecs448\\lib\\site-packages (from requests[socks]->gdown==4.4.0->flair) (3.4)\n",
      "Requirement already satisfied: soupsieve>1.2 in c:\\users\\weizhen jin\\anaconda3\\envs\\eecs448\\lib\\site-packages (from beautifulsoup4->gdown==4.4.0->flair) (2.3.2.post1)\n",
      "Requirement already satisfied: MarkupSafe>=2.0 in c:\\users\\weizhen jin\\anaconda3\\envs\\eecs448\\lib\\site-packages (from jinja2->torch!=1.8,>=1.5.0->flair) (2.1.1)\n",
      "Requirement already satisfied: PySocks!=1.5.7,>=1.5.6 in c:\\users\\weizhen jin\\anaconda3\\envs\\eecs448\\lib\\site-packages (from requests[socks]->gdown==4.4.0->flair) (1.7.1)\n",
      "Requirement already satisfied: mpmath>=0.19 in c:\\users\\weizhen jin\\anaconda3\\envs\\eecs448\\lib\\site-packages (from sympy->torch!=1.8,>=1.5.0->flair) (1.3.0)\n",
      "Requirement already satisfied: multidict<7.0,>=4.5 in c:\\users\\weizhen jin\\anaconda3\\envs\\eecs448\\lib\\site-packages (from aiohttp->datasets<3.0.0,>=2.0.0->transformer-smaller-training-vocab>=0.2.1->flair) (6.0.4)\n",
      "Requirement already satisfied: yarl<2.0,>=1.0 in c:\\users\\weizhen jin\\anaconda3\\envs\\eecs448\\lib\\site-packages (from aiohttp->datasets<3.0.0,>=2.0.0->transformer-smaller-training-vocab>=0.2.1->flair) (1.8.2)\n",
      "Requirement already satisfied: async-timeout<5.0,>=4.0.0a3 in c:\\users\\weizhen jin\\anaconda3\\envs\\eecs448\\lib\\site-packages (from aiohttp->datasets<3.0.0,>=2.0.0->transformer-smaller-training-vocab>=0.2.1->flair) (4.0.2)\n",
      "Requirement already satisfied: attrs>=17.3.0 in c:\\users\\weizhen jin\\anaconda3\\envs\\eecs448\\lib\\site-packages (from aiohttp->datasets<3.0.0,>=2.0.0->transformer-smaller-training-vocab>=0.2.1->flair) (22.2.0)\n",
      "Requirement already satisfied: aiosignal>=1.1.2 in c:\\users\\weizhen jin\\anaconda3\\envs\\eecs448\\lib\\site-packages (from aiohttp->datasets<3.0.0,>=2.0.0->transformer-smaller-training-vocab>=0.2.1->flair) (1.3.1)\n",
      "Requirement already satisfied: frozenlist>=1.1.1 in c:\\users\\weizhen jin\\anaconda3\\envs\\eecs448\\lib\\site-packages (from aiohttp->datasets<3.0.0,>=2.0.0->transformer-smaller-training-vocab>=0.2.1->flair) (1.3.3)\n",
      "Requirement already satisfied: pytz>=2020.1 in c:\\users\\weizhen jin\\anaconda3\\envs\\eecs448\\lib\\site-packages (from pandas->datasets<3.0.0,>=2.0.0->transformer-smaller-training-vocab>=0.2.1->flair) (2022.7)\n"
     ]
    },
    {
     "name": "stdout",
     "output_type": "stream",
     "text": [
      "Requirement already satisfied: sentencepiece in c:\\users\\weizhen jin\\anaconda3\\envs\\eecs448\\lib\\site-packages (0.1.97)\n",
      "Requirement already satisfied: sacremoses in c:\\users\\weizhen jin\\anaconda3\\envs\\eecs448\\lib\\site-packages (0.0.53)\n",
      "Requirement already satisfied: regex in c:\\users\\weizhen jin\\anaconda3\\envs\\eecs448\\lib\\site-packages (from sacremoses) (2022.10.31)\n",
      "Requirement already satisfied: tqdm in c:\\users\\weizhen jin\\anaconda3\\envs\\eecs448\\lib\\site-packages (from sacremoses) (4.64.1)\n",
      "Requirement already satisfied: click in c:\\users\\weizhen jin\\anaconda3\\envs\\eecs448\\lib\\site-packages (from sacremoses) (8.1.3)\n",
      "Requirement already satisfied: joblib in c:\\users\\weizhen jin\\anaconda3\\envs\\eecs448\\lib\\site-packages (from sacremoses) (1.2.0)\n",
      "Requirement already satisfied: six in c:\\users\\weizhen jin\\anaconda3\\envs\\eecs448\\lib\\site-packages (from sacremoses) (1.16.0)\n",
      "Requirement already satisfied: colorama in c:\\users\\weizhen jin\\anaconda3\\envs\\eecs448\\lib\\site-packages (from click->sacremoses) (0.4.6)\n"
     ]
    }
   ],
   "source": [
    "!pip install transformers\n",
    "!pip install python-box\n",
    "!pip install flair\n",
    "!pip install sentencepiece\n",
    "!pip install sacremoses"
   ]
  },
  {
   "cell_type": "code",
   "execution_count": 18,
   "metadata": {
    "colab": {
     "base_uri": "https://localhost:8080/"
    },
    "executionInfo": {
     "elapsed": 49280,
     "status": "ok",
     "timestamp": 1680823413092,
     "user": {
      "displayName": "Weizhen Jin",
      "userId": "10303874564751550516"
     },
     "user_tz": 240
    },
    "id": "6mKyYUC1zwKJ",
    "outputId": "439a3c0f-e427-4944-d0f5-19062e19bc0e"
   },
   "outputs": [
    {
     "name": "stdout",
     "output_type": "stream",
     "text": [
      "Requirement already satisfied: fairseq in c:\\users\\weizhen jin\\anaconda3\\envs\\eecs448\\lib\\site-packages (0.12.2)\n",
      "Requirement already satisfied: hydra-core<1.1,>=1.0.7 in c:\\users\\weizhen jin\\anaconda3\\envs\\eecs448\\lib\\site-packages (from fairseq) (1.0.7)\n",
      "Requirement already satisfied: bitarray in c:\\users\\weizhen jin\\anaconda3\\envs\\eecs448\\lib\\site-packages (from fairseq) (2.7.3)\n",
      "Requirement already satisfied: torchaudio>=0.8.0 in c:\\users\\weizhen jin\\anaconda3\\envs\\eecs448\\lib\\site-packages (from fairseq) (2.0.1)\n",
      "Requirement already satisfied: sacrebleu>=1.4.12 in c:\\users\\weizhen jin\\anaconda3\\envs\\eecs448\\lib\\site-packages (from fairseq) (2.3.1)\n",
      "Requirement already satisfied: torch in c:\\users\\weizhen jin\\anaconda3\\envs\\eecs448\\lib\\site-packages (from fairseq) (2.0.0)\n",
      "Requirement already satisfied: omegaconf<2.1 in c:\\users\\weizhen jin\\anaconda3\\envs\\eecs448\\lib\\site-packages (from fairseq) (2.0.6)\n",
      "Requirement already satisfied: numpy in c:\\users\\weizhen jin\\anaconda3\\envs\\eecs448\\lib\\site-packages (from fairseq) (1.23.5)\n",
      "Requirement already satisfied: tqdm in c:\\users\\weizhen jin\\anaconda3\\envs\\eecs448\\lib\\site-packages (from fairseq) (4.64.1)\n",
      "Requirement already satisfied: regex in c:\\users\\weizhen jin\\anaconda3\\envs\\eecs448\\lib\\site-packages (from fairseq) (2022.10.31)\n",
      "Requirement already satisfied: cython in c:\\users\\weizhen jin\\anaconda3\\envs\\eecs448\\lib\\site-packages (from fairseq) (0.29.34)\n",
      "Requirement already satisfied: cffi in c:\\users\\weizhen jin\\anaconda3\\envs\\eecs448\\lib\\site-packages (from fairseq) (1.15.1)\n",
      "Requirement already satisfied: antlr4-python3-runtime==4.8 in c:\\users\\weizhen jin\\anaconda3\\envs\\eecs448\\lib\\site-packages (from hydra-core<1.1,>=1.0.7->fairseq) (4.8)\n",
      "Requirement already satisfied: PyYAML>=5.1.* in c:\\users\\weizhen jin\\anaconda3\\envs\\eecs448\\lib\\site-packages (from omegaconf<2.1->fairseq) (6.0)\n",
      "Requirement already satisfied: typing-extensions in c:\\users\\weizhen jin\\anaconda3\\envs\\eecs448\\lib\\site-packages (from omegaconf<2.1->fairseq) (4.4.0)\n",
      "Requirement already satisfied: lxml in c:\\users\\weizhen jin\\anaconda3\\envs\\eecs448\\lib\\site-packages (from sacrebleu>=1.4.12->fairseq) (4.9.2)\n",
      "Requirement already satisfied: tabulate>=0.8.9 in c:\\users\\weizhen jin\\anaconda3\\envs\\eecs448\\lib\\site-packages (from sacrebleu>=1.4.12->fairseq) (0.9.0)\n",
      "Requirement already satisfied: portalocker in c:\\users\\weizhen jin\\anaconda3\\envs\\eecs448\\lib\\site-packages (from sacrebleu>=1.4.12->fairseq) (2.7.0)\n",
      "Requirement already satisfied: colorama in c:\\users\\weizhen jin\\anaconda3\\envs\\eecs448\\lib\\site-packages (from sacrebleu>=1.4.12->fairseq) (0.4.6)\n",
      "Requirement already satisfied: filelock in c:\\users\\weizhen jin\\anaconda3\\envs\\eecs448\\lib\\site-packages (from torch->fairseq) (3.11.0)\n",
      "Requirement already satisfied: sympy in c:\\users\\weizhen jin\\anaconda3\\envs\\eecs448\\lib\\site-packages (from torch->fairseq) (1.11.1)\n",
      "Requirement already satisfied: jinja2 in c:\\users\\weizhen jin\\anaconda3\\envs\\eecs448\\lib\\site-packages (from torch->fairseq) (3.1.2)\n",
      "Requirement already satisfied: networkx in c:\\users\\weizhen jin\\anaconda3\\envs\\eecs448\\lib\\site-packages (from torch->fairseq) (3.1)\n",
      "Requirement already satisfied: pycparser in c:\\users\\weizhen jin\\anaconda3\\envs\\eecs448\\lib\\site-packages (from cffi->fairseq) (2.21)\n",
      "Requirement already satisfied: MarkupSafe>=2.0 in c:\\users\\weizhen jin\\anaconda3\\envs\\eecs448\\lib\\site-packages (from jinja2->torch->fairseq) (2.1.1)\n",
      "Requirement already satisfied: pywin32>=226 in c:\\users\\weizhen jin\\anaconda3\\envs\\eecs448\\lib\\site-packages (from portalocker->sacrebleu>=1.4.12->fairseq) (305)\n",
      "Requirement already satisfied: mpmath>=0.19 in c:\\users\\weizhen jin\\anaconda3\\envs\\eecs448\\lib\\site-packages (from sympy->torch->fairseq) (1.3.0)\n"
     ]
    }
   ],
   "source": [
    "!pip install fairseq"
   ]
  },
  {
   "cell_type": "markdown",
   "metadata": {
    "id": "f32tgC7CML2j"
   },
   "source": [
    "### Preparing input and args"
   ]
  },
  {
   "cell_type": "code",
   "execution_count": 19,
   "metadata": {
    "executionInfo": {
     "elapsed": 113,
     "status": "ok",
     "timestamp": 1680821537712,
     "user": {
      "displayName": "Weizhen Jin",
      "userId": "10303874564751550516"
     },
     "user_tz": 240
    },
    "id": "7fg8fMjD-AL2"
   },
   "outputs": [],
   "source": [
    "from box import Box"
   ]
  },
  {
   "cell_type": "code",
   "execution_count": 3,
   "metadata": {
    "executionInfo": {
     "elapsed": 85,
     "status": "ok",
     "timestamp": 1680821538828,
     "user": {
      "displayName": "Weizhen Jin",
      "userId": "10303874564751550516"
     },
     "user_tz": 240
    },
    "id": "m7Pp-k-391VB"
   },
   "outputs": [],
   "source": [
    "args = Box({\n",
    "    'batch_size': 32,\n",
    "    'cola_classifier_path': '/content/drive/MyDrive/style_transfer',\n",
    "    'wieting_tokenizer_path': 'sim.sp.30k.model',\n",
    "    'wieting_model_path': 'sim.pt',\n",
    "    't1': 75., # this is default value\n",
    "    't2': 70., # this is default value\n",
    "    't3': 12. # this is default value\n",
    "})"
   ]
  },
  {
   "cell_type": "code",
   "execution_count": 36,
   "metadata": {
    "executionInfo": {
     "elapsed": 82,
     "status": "ok",
     "timestamp": 1680821540462,
     "user": {
      "displayName": "Weizhen Jin",
      "userId": "10303874564751550516"
     },
     "user_tz": 240
    },
    "id": "UUmnKm0_-Ku_"
   },
   "outputs": [],
   "source": [
    "# test example\n",
    "# TODO: load you data here\n",
    "\n",
    "preds = [\n",
    "    'you are fucker',\n",
    "    'you are fucker',\n",
    "    'you are fucker'\n",
    "]\n",
    "\n",
    "inputs = [\n",
    "    'you are motherfucker',\n",
    "    'you is very amazing',\n",
    "    'you are fucker',\n",
    "]"
   ]
  },
  {
   "cell_type": "markdown",
   "metadata": {
    "id": "mTPou3kvL5E6"
   },
   "source": [
    "### Style Transfer Accuracy metric"
   ]
  },
  {
   "cell_type": "code",
   "execution_count": 6,
   "metadata": {
    "executionInfo": {
     "elapsed": 4374,
     "status": "ok",
     "timestamp": 1680821546243,
     "user": {
      "displayName": "Weizhen Jin",
      "userId": "10303874564751550516"
     },
     "user_tz": 240
    },
    "id": "Me8h2mPi8qaP"
   },
   "outputs": [],
   "source": [
    "from paradetox.evaluation_detox.metric_tools.style_transfer_accuracy import classify_preds\n",
    "import numpy as np"
   ]
  },
  {
   "cell_type": "code",
   "execution_count": 7,
   "metadata": {
    "colab": {
     "base_uri": "https://localhost:8080/",
     "height": 374,
     "referenced_widgets": [
      "af5a2c4baf8c4bffa1cbcfd10ecc5ccf",
      "8c6f487824fd457182d328eb155f4afe",
      "f4f44c9430f94247b9a7fdf405cde329",
      "512adef1758a47ea874dc0e77eccb96c",
      "5c19df9d4d0d4718a957e36745b3c7d5",
      "3efc961e589142368e756a17d728675f",
      "cc92402763354b05912a39cd935e4305",
      "135faf1160394cc686738bdbfc57d63d",
      "7c0d9ee8bada4d9baa8d1815a8a606e2",
      "98a6d809fd2e4eb2826191fb93529748",
      "ac1d139dd3e34940af6e18f170eeaab6",
      "fee1707bcedc4c09bdb60a3e03437959",
      "a95c077e4d854359bff02a1d5845e0a3",
      "044683aeef824621b746ca722ee268d2",
      "030e085671ff41318a2593c5f2f1067a",
      "cc6f0d9520304163a85e958c86f82817",
      "a7dfff12ff7a4f43ae0e0f7b0f9d3155",
      "4c70b92351af46c18d234c100543741d",
      "26ebe798eb714fbd9f0a05681133fa3b",
      "45f4f2a991d74fb187c739d7a5ac454f",
      "3e87ca414f9544159e1fb0b300dd4a5f",
      "512d555850614cebb3752c5f8282b3ab",
      "1c693d95f20e44c783b05d35e4347ccd",
      "fa81cea32e2542579f1435723c66e983",
      "6de9ec605e3f4511ab294ad64f2069f4",
      "fed70c9191c3455aa271c0d1ac3e0fe2",
      "c7700cd3409c42298bf594acdf06fdda",
      "ddd9a857d9f246f5aa26a70968f18855",
      "f423cf7bb79d482dbae7fb0349589836",
      "f407c340fdf14aa88f2e6e09e4cc364e",
      "f897ea6936024431aa1928dfdce3440b",
      "4f7392910dea4913b53278735c2c7f5d",
      "3294a60acb804919ad7ad4479e6fc1a4",
      "67911f8020a7411096dc9ae262bf7f43",
      "19e32bbdc9db42e3a7bc9e0745a55975",
      "d4311eee392e4058b6980b76889b4104",
      "7494c50ecead419bb8b6c630a3b3bd10",
      "354eb994b6f242af91cfda1b62229ced",
      "4ba8813eba614c2ba972d7712c268cb7",
      "5303aff073b24888a12908a574cdb356",
      "61e5747ae22c4bce8ad370429752795d",
      "5ea870fb11dc4d89b971add64aada3b0",
      "d34faa583d3e428cb3b8aae54096bf4b",
      "93ed3331da2c4a3f84408a764faed31b",
      "1e59a6379dc94d198cd0d3670ff36845",
      "c1e1c72622e44717a5866579560f052f",
      "7cbbd6a15806455aabd04584ff440427",
      "a415ec0fc1a54101bc660d85012794c7",
      "8f5d8fcc70924a1e93b2560bd88a0b68",
      "17c2eefc38384580afa79cd47cd1351e",
      "37524f1e992a4945bfe3046b660ceb7b",
      "48616bd27ee94f2bb2cc98b17bfa16c8",
      "1e8b4ecaf24644338535a397fac0ed6a",
      "e239f85efa7a4ca38a416157e11b4cfa",
      "a98d8d04863b4190a172e48edddd3e74",
      "827f386f9ef641699be825dd8d158351",
      "df1c8c68fe834156923a29e5efb9356b",
      "07de2c8828f647dbbb907f8e540398cf",
      "c6aebff8d02a4671b411cc85ec648dc3",
      "78a2e314b1f74f7d9d804bb0064d89f9",
      "399e8df45a1e424e9dc0a38f80eb0aaa",
      "1c9435a328044103b1b65b3f788c8015",
      "3d321f94d20848b483a3b5a74f2e6825",
      "1cfaa43527ec4267b7d0c379460571db",
      "e389911ba1f548e9a6b1d8098c01c9cd",
      "7f0b449203e14a9980107904295d505d"
     ]
    },
    "executionInfo": {
     "elapsed": 9439,
     "status": "ok",
     "timestamp": 1680821557141,
     "user": {
      "displayName": "Weizhen Jin",
      "userId": "10303874564751550516"
     },
     "user_tz": 240
    },
    "id": "SFfryAYz80iq",
    "outputId": "2433bd32-0c34-4c88-a087-63b92e9b2038"
   },
   "outputs": [
    {
     "name": "stdout",
     "output_type": "stream",
     "text": [
      "Calculating style of predictions\n"
     ]
    },
    {
     "data": {
      "application/vnd.jupyter.widget-view+json": {
       "model_id": "af5a2c4baf8c4bffa1cbcfd10ecc5ccf",
       "version_major": 2,
       "version_minor": 0
      },
      "text/plain": [
       "Downloading (…)olve/main/vocab.json:   0%|          | 0.00/798k [00:00<?, ?B/s]"
      ]
     },
     "metadata": {},
     "output_type": "display_data"
    },
    {
     "data": {
      "application/vnd.jupyter.widget-view+json": {
       "model_id": "fee1707bcedc4c09bdb60a3e03437959",
       "version_major": 2,
       "version_minor": 0
      },
      "text/plain": [
       "Downloading (…)olve/main/merges.txt:   0%|          | 0.00/456k [00:00<?, ?B/s]"
      ]
     },
     "metadata": {},
     "output_type": "display_data"
    },
    {
     "data": {
      "application/vnd.jupyter.widget-view+json": {
       "model_id": "1c693d95f20e44c783b05d35e4347ccd",
       "version_major": 2,
       "version_minor": 0
      },
      "text/plain": [
       "Downloading (…)cial_tokens_map.json:   0%|          | 0.00/239 [00:00<?, ?B/s]"
      ]
     },
     "metadata": {},
     "output_type": "display_data"
    },
    {
     "data": {
      "application/vnd.jupyter.widget-view+json": {
       "model_id": "67911f8020a7411096dc9ae262bf7f43",
       "version_major": 2,
       "version_minor": 0
      },
      "text/plain": [
       "Downloading (…)okenizer_config.json:   0%|          | 0.00/25.0 [00:00<?, ?B/s]"
      ]
     },
     "metadata": {},
     "output_type": "display_data"
    },
    {
     "data": {
      "application/vnd.jupyter.widget-view+json": {
       "model_id": "1e59a6379dc94d198cd0d3670ff36845",
       "version_major": 2,
       "version_minor": 0
      },
      "text/plain": [
       "Downloading (…)lve/main/config.json:   0%|          | 0.00/794 [00:00<?, ?B/s]"
      ]
     },
     "metadata": {},
     "output_type": "display_data"
    },
    {
     "data": {
      "application/vnd.jupyter.widget-view+json": {
       "model_id": "827f386f9ef641699be825dd8d158351",
       "version_major": 2,
       "version_minor": 0
      },
      "text/plain": [
       "Downloading pytorch_model.bin:   0%|          | 0.00/501M [00:00<?, ?B/s]"
      ]
     },
     "metadata": {},
     "output_type": "display_data"
    },
    {
     "name": "stderr",
     "output_type": "stream",
     "text": [
      "Some weights of the model checkpoint at SkolkovoInstitute/roberta_toxicity_classifier were not used when initializing RobertaForSequenceClassification: ['roberta.pooler.dense.bias', 'roberta.pooler.dense.weight']\n",
      "- This IS expected if you are initializing RobertaForSequenceClassification from the checkpoint of a model trained on another task or with another architecture (e.g. initializing a BertForSequenceClassification model from a BertForPreTraining model).\n",
      "- This IS NOT expected if you are initializing RobertaForSequenceClassification from the checkpoint of a model that you expect to be exactly identical (initializing a BertForSequenceClassification model from a BertForSequenceClassification model).\n",
      "100%|██████████| 1/1 [00:00<00:00,  4.51it/s]"
     ]
    },
    {
     "name": "stdout",
     "output_type": "stream",
     "text": [
      "\n",
      "\n",
      "0.0\n"
     ]
    },
    {
     "name": "stderr",
     "output_type": "stream",
     "text": [
      "\n"
     ]
    }
   ],
   "source": [
    "accuracy_by_sent = classify_preds(args, preds)\n",
    "accuracy = np.mean(accuracy_by_sent)\n",
    "print('\\n')\n",
    "print(accuracy)"
   ]
  },
  {
   "cell_type": "markdown",
   "metadata": {
    "id": "pvymGu7_L8wh"
   },
   "source": [
    "### Content Similarity metrics"
   ]
  },
  {
   "cell_type": "markdown",
   "metadata": {
    "id": "ztTxHuXvMq_U"
   },
   "source": [
    "Aditional data download"
   ]
  },
  {
   "cell_type": "code",
   "execution_count": 8,
   "metadata": {
    "colab": {
     "base_uri": "https://localhost:8080/"
    },
    "executionInfo": {
     "elapsed": 6571,
     "status": "ok",
     "timestamp": 1680821599490,
     "user": {
      "displayName": "Weizhen Jin",
      "userId": "10303874564751550516"
     },
     "user_tz": 240
    },
    "id": "eYW-rtv3_xF9",
    "outputId": "6cb0ac68-38af-4b97-cf9e-efeae2847e01"
   },
   "outputs": [
    {
     "name": "stdout",
     "output_type": "stream",
     "text": [
      "--2023-04-06 22:53:15--  https://storage.yandexcloud.net/nlp/wieting_similarity_data.zip\n",
      "Resolving storage.yandexcloud.net (storage.yandexcloud.net)... 213.180.193.243, 2a02:6b8::1d9\n",
      "Connecting to storage.yandexcloud.net (storage.yandexcloud.net)|213.180.193.243|:443... connected.\n",
      "HTTP request sent, awaiting response... 200 OK\n",
      "Length: 74066204 (71M) [application/x-zip-compressed]\n",
      "Saving to: ‘wieting_similarity_data.zip’\n",
      "\n",
      "wieting_similarity_ 100%[===================>]  70.63M  20.2MB/s    in 4.4s    \n",
      "\n",
      "2023-04-06 22:53:20 (16.0 MB/s) - ‘wieting_similarity_data.zip’ saved [74066204/74066204]\n",
      "\n",
      "Archive:  wieting_similarity_data.zip\n",
      "  inflating: sim.pt                  \n",
      "  inflating: sim.sp.30k.model        \n"
     ]
    }
   ],
   "source": [
    "!wget https://storage.yandexcloud.net/nlp/wieting_similarity_data.zip\n",
    "!unzip wieting_similarity_data.zip"
   ]
  },
  {
   "cell_type": "code",
   "execution_count": 9,
   "metadata": {
    "executionInfo": {
     "elapsed": 6305,
     "status": "ok",
     "timestamp": 1680821610049,
     "user": {
      "displayName": "Weizhen Jin",
      "userId": "10303874564751550516"
     },
     "user_tz": 240
    },
    "id": "pagte5yb-R7R"
   },
   "outputs": [],
   "source": [
    "from paradetox.evaluation_detox.metric_tools.content_similarity import calc_bleu\n",
    "from paradetox.evaluation_detox.metric_tools.content_similarity import flair_sim\n",
    "from paradetox.evaluation_detox.metric_tools.content_similarity import wieting_sim"
   ]
  },
  {
   "cell_type": "code",
   "execution_count": null,
   "metadata": {
    "colab": {
     "base_uri": "https://localhost:8080/"
    },
    "id": "4oLdRB85_VOj",
    "outputId": "e7e3acd2-1b99-42fe-bef3-4dc2db2c9c81"
   },
   "outputs": [
    {
     "name": "stdout",
     "output_type": "stream",
     "text": [
      "Calculating BLEU similarity\n"
     ]
    }
   ],
   "source": [
    "bleu = calc_bleu(inputs, preds)\n",
    "print('\\n')\n",
    "print(bleu)"
   ]
  },
  {
   "cell_type": "code",
   "execution_count": null,
   "metadata": {
    "colab": {
     "base_uri": "https://localhost:8080/"
    },
    "id": "D7Fvg_vB_iE9",
    "outputId": "fd92f359-f496-437d-ae77-f0ed4e5b7720"
   },
   "outputs": [
    {
     "name": "stdout",
     "output_type": "stream",
     "text": [
      "Calculating flair embeddings similarity\n",
      "2021-10-12 11:48:52,917 https://flair.informatik.hu-berlin.de/resources/embeddings/flair/news-forward-0.4.1.pt not found in cache, downloading to /tmp/tmpgur_rqg4\n"
     ]
    },
    {
     "name": "stderr",
     "output_type": "stream",
     "text": [
      "100%|██████████| 73034624/73034624 [00:09<00:00, 7515429.45B/s]"
     ]
    },
    {
     "name": "stdout",
     "output_type": "stream",
     "text": [
      "2021-10-12 11:49:03,483 copying /tmp/tmpgur_rqg4 to cache at /root/.flair/embeddings/news-forward-0.4.1.pt\n"
     ]
    },
    {
     "name": "stderr",
     "output_type": "stream",
     "text": [
      "\n"
     ]
    },
    {
     "name": "stdout",
     "output_type": "stream",
     "text": [
      "2021-10-12 11:49:03,585 removing temp file /tmp/tmpgur_rqg4\n"
     ]
    }
   ],
   "source": [
    "emb_sim_stats = flair_sim(args, inputs, preds)\n",
    "emb_sim = emb_sim_stats.mean()\n",
    "print('\\n')\n",
    "print(emb_sim)"
   ]
  },
  {
   "cell_type": "code",
   "execution_count": 10,
   "metadata": {
    "colab": {
     "base_uri": "https://localhost:8080/"
    },
    "executionInfo": {
     "elapsed": 5407,
     "status": "ok",
     "timestamp": 1680821626047,
     "user": {
      "displayName": "Weizhen Jin",
      "userId": "10303874564751550516"
     },
     "user_tz": 240
    },
    "id": "pNNr5bJDAMkj",
    "outputId": "55359e8e-881b-4e12-a229-8bcf7427f757"
   },
   "outputs": [
    {
     "name": "stdout",
     "output_type": "stream",
     "text": [
      "Calculating similarity by Wieting subword-embedding SIM model\n"
     ]
    },
    {
     "name": "stderr",
     "output_type": "stream",
     "text": [
      "100%|██████████| 1/1 [00:00<00:00, 18.70it/s]"
     ]
    },
    {
     "name": "stdout",
     "output_type": "stream",
     "text": [
      "\n",
      "\n",
      "0.7757033407688141\n"
     ]
    },
    {
     "name": "stderr",
     "output_type": "stream",
     "text": [
      "\n"
     ]
    }
   ],
   "source": [
    "similarity_by_sent = wieting_sim(args, inputs, preds)\n",
    "avg_sim_by_sent = similarity_by_sent.mean()\n",
    "print('\\n')\n",
    "print(avg_sim_by_sent)"
   ]
  },
  {
   "cell_type": "markdown",
   "metadata": {
    "id": "mFz75AvaMBQo"
   },
   "source": [
    "### Fluency metrics"
   ]
  },
  {
   "cell_type": "markdown",
   "metadata": {
    "id": "_9GMGqi7NQtq"
   },
   "source": [
    "Additional data preparation:\n",
    "\n",
    "This part requires CoLa classifier obtained from [here](https://drive.google.com/drive/folders/1p6_3lCbw3J0MhlidvKkRbG73qwmtWuRp). \n",
    "\n",
    "IF YOU ARE WORKING IN COLAB: You need to open the link and add the folder `cola_classifier` as an shortcut to your drive (you can allocate shortcut in any place of your drive). The next cell will mount your drive to the current Colab session. You need to specify path of your CoLa shortcut in args `cola_classifier_path`.\n",
    "\n",
    "IF YOU ARE WORKING ON LOCAL MACHINE: download and unzip the folder from the link and specify the path to the unpacked folder below."
   ]
  },
  {
   "cell_type": "code",
   "execution_count": 29,
   "metadata": {},
   "outputs": [
    {
     "data": {
      "application/vnd.jupyter.widget-view+json": {
       "model_id": "d586d2a8df3a4d54a48ce26888cc1de5",
       "version_major": 2,
       "version_minor": 0
      },
      "text/plain": [
       "Downloading (…)lve/main/config.json:   0%|          | 0.00/739 [00:00<?, ?B/s]"
      ]
     },
     "metadata": {},
     "output_type": "display_data"
    },
    {
     "name": "stderr",
     "output_type": "stream",
     "text": [
      "C:\\Users\\Weizhen Jin\\anaconda3\\envs\\eecs448\\lib\\site-packages\\huggingface_hub\\file_download.py:133: UserWarning: `huggingface_hub` cache-system uses symlinks by default to efficiently store duplicated files but your machine does not support them in C:\\Users\\Weizhen Jin\\.cache\\huggingface\\hub. Caching files will still work but in a degraded version that might require more space on your disk. This warning can be disabled by setting the `HF_HUB_DISABLE_SYMLINKS_WARNING` environment variable. For more details, see https://huggingface.co/docs/huggingface_hub/how-to-cache#limitations.\n",
      "To support symlinks on Windows, you either need to activate Developer Mode or to run Python as an administrator. In order to see activate developer mode, see this article: https://docs.microsoft.com/en-us/windows/apps/get-started/enable-your-device-for-development\n",
      "  warnings.warn(message)\n"
     ]
    },
    {
     "data": {
      "application/vnd.jupyter.widget-view+json": {
       "model_id": "773387282f6d4b7aaca5a310802d238e",
       "version_major": 2,
       "version_minor": 0
      },
      "text/plain": [
       "Downloading pytorch_model.bin:   0%|          | 0.00/499M [00:00<?, ?B/s]"
      ]
     },
     "metadata": {},
     "output_type": "display_data"
    }
   ],
   "source": [
    "from transformers import AutoModelForSequenceClassification\n",
    "model = AutoModelForSequenceClassification.from_pretrained(\"jxuhf/roberta-base-finetuned-cola\")"
   ]
  },
  {
   "cell_type": "code",
   "execution_count": 33,
   "metadata": {},
   "outputs": [
    {
     "data": {
      "application/vnd.jupyter.widget-view+json": {
       "model_id": "d4671e764e1640c6ac5765453356e18a",
       "version_major": 2,
       "version_minor": 0
      },
      "text/plain": [
       "Downloading (…)okenizer_config.json:   0%|          | 0.00/327 [00:00<?, ?B/s]"
      ]
     },
     "metadata": {},
     "output_type": "display_data"
    },
    {
     "data": {
      "application/vnd.jupyter.widget-view+json": {
       "model_id": "a39733cce48c4bf19c8eea72d79e9aa2",
       "version_major": 2,
       "version_minor": 0
      },
      "text/plain": [
       "Downloading (…)olve/main/vocab.json:   0%|          | 0.00/798k [00:00<?, ?B/s]"
      ]
     },
     "metadata": {},
     "output_type": "display_data"
    },
    {
     "data": {
      "application/vnd.jupyter.widget-view+json": {
       "model_id": "c3be829432924342a512538bff6d2f0e",
       "version_major": 2,
       "version_minor": 0
      },
      "text/plain": [
       "Downloading (…)olve/main/merges.txt:   0%|          | 0.00/456k [00:00<?, ?B/s]"
      ]
     },
     "metadata": {},
     "output_type": "display_data"
    },
    {
     "data": {
      "application/vnd.jupyter.widget-view+json": {
       "model_id": "2774de7405ae4a38a916c3213888509f",
       "version_major": 2,
       "version_minor": 0
      },
      "text/plain": [
       "Downloading (…)/main/tokenizer.json:   0%|          | 0.00/1.36M [00:00<?, ?B/s]"
      ]
     },
     "metadata": {},
     "output_type": "display_data"
    },
    {
     "data": {
      "application/vnd.jupyter.widget-view+json": {
       "model_id": "a96bd53e510a4f128a38ecdb5c245a5f",
       "version_major": 2,
       "version_minor": 0
      },
      "text/plain": [
       "Downloading (…)cial_tokens_map.json:   0%|          | 0.00/239 [00:00<?, ?B/s]"
      ]
     },
     "metadata": {},
     "output_type": "display_data"
    }
   ],
   "source": [
    "from transformers import AutoTokenizer\n",
    "tokenizer = AutoTokenizer.from_pretrained(\"jxuhf/roberta-base-finetuned-cola\")"
   ]
  },
  {
   "cell_type": "code",
   "execution_count": 51,
   "metadata": {},
   "outputs": [
    {
     "name": "stdout",
     "output_type": "stream",
     "text": [
      "tensor(0.4116, grad_fn=<MeanBackward0>)\n"
     ]
    }
   ],
   "source": [
    "import torch\n",
    "tokens = tokenizer(inputs, padding=True, truncation=True, return_tensors=\"pt\")\n",
    "outputs = model(**tokens)\n",
    "logits = outputs.logits\n",
    "l = torch.nn.Softmax(dim=1)\n",
    "cola_score = torch.mean(l(logits)[:, 1])\n",
    "print(cola_score)"
   ]
  }
 ],
 "metadata": {
  "accelerator": "GPU",
  "colab": {
   "provenance": []
  },
  "kernelspec": {
   "display_name": "Python 3 (ipykernel)",
   "language": "python",
   "name": "python3"
  },
  "language_info": {
   "codemirror_mode": {
    "name": "ipython",
    "version": 3
   },
   "file_extension": ".py",
   "mimetype": "text/x-python",
   "name": "python",
   "nbconvert_exporter": "python",
   "pygments_lexer": "ipython3",
   "version": "3.9.15"
  },
  "widgets": {
   "application/vnd.jupyter.widget-state+json": {
    "030e085671ff41318a2593c5f2f1067a": {
     "model_module": "@jupyter-widgets/controls",
     "model_module_version": "1.5.0",
     "model_name": "HTMLModel",
     "state": {
      "_dom_classes": [],
      "_model_module": "@jupyter-widgets/controls",
      "_model_module_version": "1.5.0",
      "_model_name": "HTMLModel",
      "_view_count": null,
      "_view_module": "@jupyter-widgets/controls",
      "_view_module_version": "1.5.0",
      "_view_name": "HTMLView",
      "description": "",
      "description_tooltip": null,
      "layout": "IPY_MODEL_3e87ca414f9544159e1fb0b300dd4a5f",
      "placeholder": "​",
      "style": "IPY_MODEL_512d555850614cebb3752c5f8282b3ab",
      "value": " 456k/456k [00:00&lt;00:00, 6.40MB/s]"
     }
    },
    "044683aeef824621b746ca722ee268d2": {
     "model_module": "@jupyter-widgets/controls",
     "model_module_version": "1.5.0",
     "model_name": "FloatProgressModel",
     "state": {
      "_dom_classes": [],
      "_model_module": "@jupyter-widgets/controls",
      "_model_module_version": "1.5.0",
      "_model_name": "FloatProgressModel",
      "_view_count": null,
      "_view_module": "@jupyter-widgets/controls",
      "_view_module_version": "1.5.0",
      "_view_name": "ProgressView",
      "bar_style": "success",
      "description": "",
      "description_tooltip": null,
      "layout": "IPY_MODEL_26ebe798eb714fbd9f0a05681133fa3b",
      "max": 456356,
      "min": 0,
      "orientation": "horizontal",
      "style": "IPY_MODEL_45f4f2a991d74fb187c739d7a5ac454f",
      "value": 456356
     }
    },
    "07de2c8828f647dbbb907f8e540398cf": {
     "model_module": "@jupyter-widgets/controls",
     "model_module_version": "1.5.0",
     "model_name": "FloatProgressModel",
     "state": {
      "_dom_classes": [],
      "_model_module": "@jupyter-widgets/controls",
      "_model_module_version": "1.5.0",
      "_model_name": "FloatProgressModel",
      "_view_count": null,
      "_view_module": "@jupyter-widgets/controls",
      "_view_module_version": "1.5.0",
      "_view_name": "ProgressView",
      "bar_style": "success",
      "description": "",
      "description_tooltip": null,
      "layout": "IPY_MODEL_3d321f94d20848b483a3b5a74f2e6825",
      "max": 501037970,
      "min": 0,
      "orientation": "horizontal",
      "style": "IPY_MODEL_1cfaa43527ec4267b7d0c379460571db",
      "value": 501037970
     }
    },
    "135faf1160394cc686738bdbfc57d63d": {
     "model_module": "@jupyter-widgets/base",
     "model_module_version": "1.2.0",
     "model_name": "LayoutModel",
     "state": {
      "_model_module": "@jupyter-widgets/base",
      "_model_module_version": "1.2.0",
      "_model_name": "LayoutModel",
      "_view_count": null,
      "_view_module": "@jupyter-widgets/base",
      "_view_module_version": "1.2.0",
      "_view_name": "LayoutView",
      "align_content": null,
      "align_items": null,
      "align_self": null,
      "border": null,
      "bottom": null,
      "display": null,
      "flex": null,
      "flex_flow": null,
      "grid_area": null,
      "grid_auto_columns": null,
      "grid_auto_flow": null,
      "grid_auto_rows": null,
      "grid_column": null,
      "grid_gap": null,
      "grid_row": null,
      "grid_template_areas": null,
      "grid_template_columns": null,
      "grid_template_rows": null,
      "height": null,
      "justify_content": null,
      "justify_items": null,
      "left": null,
      "margin": null,
      "max_height": null,
      "max_width": null,
      "min_height": null,
      "min_width": null,
      "object_fit": null,
      "object_position": null,
      "order": null,
      "overflow": null,
      "overflow_x": null,
      "overflow_y": null,
      "padding": null,
      "right": null,
      "top": null,
      "visibility": null,
      "width": null
     }
    },
    "160ab4a423b94f1f9f99e003403c060d": {
     "model_module": "@jupyter-widgets/controls",
     "model_module_version": "1.5.0",
     "model_name": "HTMLModel",
     "state": {
      "_dom_classes": [],
      "_model_module": "@jupyter-widgets/controls",
      "_model_module_version": "1.5.0",
      "_model_name": "HTMLModel",
      "_view_count": null,
      "_view_module": "@jupyter-widgets/controls",
      "_view_module_version": "1.5.0",
      "_view_name": "HTMLView",
      "description": "",
      "description_tooltip": null,
      "layout": "IPY_MODEL_8fb5b42510db421295ff98dfdba80904",
      "placeholder": "​",
      "style": "IPY_MODEL_bd74d4ef0f8b4fdf87c7bf5a6131e7ef",
      "value": " 718/718 [00:00&lt;00:00, 16.6kB/s]"
     }
    },
    "17c2eefc38384580afa79cd47cd1351e": {
     "model_module": "@jupyter-widgets/base",
     "model_module_version": "1.2.0",
     "model_name": "LayoutModel",
     "state": {
      "_model_module": "@jupyter-widgets/base",
      "_model_module_version": "1.2.0",
      "_model_name": "LayoutModel",
      "_view_count": null,
      "_view_module": "@jupyter-widgets/base",
      "_view_module_version": "1.2.0",
      "_view_name": "LayoutView",
      "align_content": null,
      "align_items": null,
      "align_self": null,
      "border": null,
      "bottom": null,
      "display": null,
      "flex": null,
      "flex_flow": null,
      "grid_area": null,
      "grid_auto_columns": null,
      "grid_auto_flow": null,
      "grid_auto_rows": null,
      "grid_column": null,
      "grid_gap": null,
      "grid_row": null,
      "grid_template_areas": null,
      "grid_template_columns": null,
      "grid_template_rows": null,
      "height": null,
      "justify_content": null,
      "justify_items": null,
      "left": null,
      "margin": null,
      "max_height": null,
      "max_width": null,
      "min_height": null,
      "min_width": null,
      "object_fit": null,
      "object_position": null,
      "order": null,
      "overflow": null,
      "overflow_x": null,
      "overflow_y": null,
      "padding": null,
      "right": null,
      "top": null,
      "visibility": null,
      "width": null
     }
    },
    "19e32bbdc9db42e3a7bc9e0745a55975": {
     "model_module": "@jupyter-widgets/controls",
     "model_module_version": "1.5.0",
     "model_name": "HTMLModel",
     "state": {
      "_dom_classes": [],
      "_model_module": "@jupyter-widgets/controls",
      "_model_module_version": "1.5.0",
      "_model_name": "HTMLModel",
      "_view_count": null,
      "_view_module": "@jupyter-widgets/controls",
      "_view_module_version": "1.5.0",
      "_view_name": "HTMLView",
      "description": "",
      "description_tooltip": null,
      "layout": "IPY_MODEL_4ba8813eba614c2ba972d7712c268cb7",
      "placeholder": "​",
      "style": "IPY_MODEL_5303aff073b24888a12908a574cdb356",
      "value": "Downloading (…)okenizer_config.json: 100%"
     }
    },
    "1c693d95f20e44c783b05d35e4347ccd": {
     "model_module": "@jupyter-widgets/controls",
     "model_module_version": "1.5.0",
     "model_name": "HBoxModel",
     "state": {
      "_dom_classes": [],
      "_model_module": "@jupyter-widgets/controls",
      "_model_module_version": "1.5.0",
      "_model_name": "HBoxModel",
      "_view_count": null,
      "_view_module": "@jupyter-widgets/controls",
      "_view_module_version": "1.5.0",
      "_view_name": "HBoxView",
      "box_style": "",
      "children": [
       "IPY_MODEL_fa81cea32e2542579f1435723c66e983",
       "IPY_MODEL_6de9ec605e3f4511ab294ad64f2069f4",
       "IPY_MODEL_fed70c9191c3455aa271c0d1ac3e0fe2"
      ],
      "layout": "IPY_MODEL_c7700cd3409c42298bf594acdf06fdda"
     }
    },
    "1c9435a328044103b1b65b3f788c8015": {
     "model_module": "@jupyter-widgets/controls",
     "model_module_version": "1.5.0",
     "model_name": "DescriptionStyleModel",
     "state": {
      "_model_module": "@jupyter-widgets/controls",
      "_model_module_version": "1.5.0",
      "_model_name": "DescriptionStyleModel",
      "_view_count": null,
      "_view_module": "@jupyter-widgets/base",
      "_view_module_version": "1.2.0",
      "_view_name": "StyleView",
      "description_width": ""
     }
    },
    "1cfaa43527ec4267b7d0c379460571db": {
     "model_module": "@jupyter-widgets/controls",
     "model_module_version": "1.5.0",
     "model_name": "ProgressStyleModel",
     "state": {
      "_model_module": "@jupyter-widgets/controls",
      "_model_module_version": "1.5.0",
      "_model_name": "ProgressStyleModel",
      "_view_count": null,
      "_view_module": "@jupyter-widgets/base",
      "_view_module_version": "1.2.0",
      "_view_name": "StyleView",
      "bar_color": null,
      "description_width": ""
     }
    },
    "1e59a6379dc94d198cd0d3670ff36845": {
     "model_module": "@jupyter-widgets/controls",
     "model_module_version": "1.5.0",
     "model_name": "HBoxModel",
     "state": {
      "_dom_classes": [],
      "_model_module": "@jupyter-widgets/controls",
      "_model_module_version": "1.5.0",
      "_model_name": "HBoxModel",
      "_view_count": null,
      "_view_module": "@jupyter-widgets/controls",
      "_view_module_version": "1.5.0",
      "_view_name": "HBoxView",
      "box_style": "",
      "children": [
       "IPY_MODEL_c1e1c72622e44717a5866579560f052f",
       "IPY_MODEL_7cbbd6a15806455aabd04584ff440427",
       "IPY_MODEL_a415ec0fc1a54101bc660d85012794c7"
      ],
      "layout": "IPY_MODEL_8f5d8fcc70924a1e93b2560bd88a0b68"
     }
    },
    "1e8b4ecaf24644338535a397fac0ed6a": {
     "model_module": "@jupyter-widgets/controls",
     "model_module_version": "1.5.0",
     "model_name": "ProgressStyleModel",
     "state": {
      "_model_module": "@jupyter-widgets/controls",
      "_model_module_version": "1.5.0",
      "_model_name": "ProgressStyleModel",
      "_view_count": null,
      "_view_module": "@jupyter-widgets/base",
      "_view_module_version": "1.2.0",
      "_view_name": "StyleView",
      "bar_color": null,
      "description_width": ""
     }
    },
    "26ebe798eb714fbd9f0a05681133fa3b": {
     "model_module": "@jupyter-widgets/base",
     "model_module_version": "1.2.0",
     "model_name": "LayoutModel",
     "state": {
      "_model_module": "@jupyter-widgets/base",
      "_model_module_version": "1.2.0",
      "_model_name": "LayoutModel",
      "_view_count": null,
      "_view_module": "@jupyter-widgets/base",
      "_view_module_version": "1.2.0",
      "_view_name": "LayoutView",
      "align_content": null,
      "align_items": null,
      "align_self": null,
      "border": null,
      "bottom": null,
      "display": null,
      "flex": null,
      "flex_flow": null,
      "grid_area": null,
      "grid_auto_columns": null,
      "grid_auto_flow": null,
      "grid_auto_rows": null,
      "grid_column": null,
      "grid_gap": null,
      "grid_row": null,
      "grid_template_areas": null,
      "grid_template_columns": null,
      "grid_template_rows": null,
      "height": null,
      "justify_content": null,
      "justify_items": null,
      "left": null,
      "margin": null,
      "max_height": null,
      "max_width": null,
      "min_height": null,
      "min_width": null,
      "object_fit": null,
      "object_position": null,
      "order": null,
      "overflow": null,
      "overflow_x": null,
      "overflow_y": null,
      "padding": null,
      "right": null,
      "top": null,
      "visibility": null,
      "width": null
     }
    },
    "27390f2e84984f279bb566ce86d6daef": {
     "model_module": "@jupyter-widgets/controls",
     "model_module_version": "1.5.0",
     "model_name": "DescriptionStyleModel",
     "state": {
      "_model_module": "@jupyter-widgets/controls",
      "_model_module_version": "1.5.0",
      "_model_name": "DescriptionStyleModel",
      "_view_count": null,
      "_view_module": "@jupyter-widgets/base",
      "_view_module_version": "1.2.0",
      "_view_name": "StyleView",
      "description_width": ""
     }
    },
    "3294a60acb804919ad7ad4479e6fc1a4": {
     "model_module": "@jupyter-widgets/controls",
     "model_module_version": "1.5.0",
     "model_name": "DescriptionStyleModel",
     "state": {
      "_model_module": "@jupyter-widgets/controls",
      "_model_module_version": "1.5.0",
      "_model_name": "DescriptionStyleModel",
      "_view_count": null,
      "_view_module": "@jupyter-widgets/base",
      "_view_module_version": "1.2.0",
      "_view_name": "StyleView",
      "description_width": ""
     }
    },
    "354eb994b6f242af91cfda1b62229ced": {
     "model_module": "@jupyter-widgets/base",
     "model_module_version": "1.2.0",
     "model_name": "LayoutModel",
     "state": {
      "_model_module": "@jupyter-widgets/base",
      "_model_module_version": "1.2.0",
      "_model_name": "LayoutModel",
      "_view_count": null,
      "_view_module": "@jupyter-widgets/base",
      "_view_module_version": "1.2.0",
      "_view_name": "LayoutView",
      "align_content": null,
      "align_items": null,
      "align_self": null,
      "border": null,
      "bottom": null,
      "display": null,
      "flex": null,
      "flex_flow": null,
      "grid_area": null,
      "grid_auto_columns": null,
      "grid_auto_flow": null,
      "grid_auto_rows": null,
      "grid_column": null,
      "grid_gap": null,
      "grid_row": null,
      "grid_template_areas": null,
      "grid_template_columns": null,
      "grid_template_rows": null,
      "height": null,
      "justify_content": null,
      "justify_items": null,
      "left": null,
      "margin": null,
      "max_height": null,
      "max_width": null,
      "min_height": null,
      "min_width": null,
      "object_fit": null,
      "object_position": null,
      "order": null,
      "overflow": null,
      "overflow_x": null,
      "overflow_y": null,
      "padding": null,
      "right": null,
      "top": null,
      "visibility": null,
      "width": null
     }
    },
    "37524f1e992a4945bfe3046b660ceb7b": {
     "model_module": "@jupyter-widgets/controls",
     "model_module_version": "1.5.0",
     "model_name": "DescriptionStyleModel",
     "state": {
      "_model_module": "@jupyter-widgets/controls",
      "_model_module_version": "1.5.0",
      "_model_name": "DescriptionStyleModel",
      "_view_count": null,
      "_view_module": "@jupyter-widgets/base",
      "_view_module_version": "1.2.0",
      "_view_name": "StyleView",
      "description_width": ""
     }
    },
    "399e8df45a1e424e9dc0a38f80eb0aaa": {
     "model_module": "@jupyter-widgets/base",
     "model_module_version": "1.2.0",
     "model_name": "LayoutModel",
     "state": {
      "_model_module": "@jupyter-widgets/base",
      "_model_module_version": "1.2.0",
      "_model_name": "LayoutModel",
      "_view_count": null,
      "_view_module": "@jupyter-widgets/base",
      "_view_module_version": "1.2.0",
      "_view_name": "LayoutView",
      "align_content": null,
      "align_items": null,
      "align_self": null,
      "border": null,
      "bottom": null,
      "display": null,
      "flex": null,
      "flex_flow": null,
      "grid_area": null,
      "grid_auto_columns": null,
      "grid_auto_flow": null,
      "grid_auto_rows": null,
      "grid_column": null,
      "grid_gap": null,
      "grid_row": null,
      "grid_template_areas": null,
      "grid_template_columns": null,
      "grid_template_rows": null,
      "height": null,
      "justify_content": null,
      "justify_items": null,
      "left": null,
      "margin": null,
      "max_height": null,
      "max_width": null,
      "min_height": null,
      "min_width": null,
      "object_fit": null,
      "object_position": null,
      "order": null,
      "overflow": null,
      "overflow_x": null,
      "overflow_y": null,
      "padding": null,
      "right": null,
      "top": null,
      "visibility": null,
      "width": null
     }
    },
    "3d321f94d20848b483a3b5a74f2e6825": {
     "model_module": "@jupyter-widgets/base",
     "model_module_version": "1.2.0",
     "model_name": "LayoutModel",
     "state": {
      "_model_module": "@jupyter-widgets/base",
      "_model_module_version": "1.2.0",
      "_model_name": "LayoutModel",
      "_view_count": null,
      "_view_module": "@jupyter-widgets/base",
      "_view_module_version": "1.2.0",
      "_view_name": "LayoutView",
      "align_content": null,
      "align_items": null,
      "align_self": null,
      "border": null,
      "bottom": null,
      "display": null,
      "flex": null,
      "flex_flow": null,
      "grid_area": null,
      "grid_auto_columns": null,
      "grid_auto_flow": null,
      "grid_auto_rows": null,
      "grid_column": null,
      "grid_gap": null,
      "grid_row": null,
      "grid_template_areas": null,
      "grid_template_columns": null,
      "grid_template_rows": null,
      "height": null,
      "justify_content": null,
      "justify_items": null,
      "left": null,
      "margin": null,
      "max_height": null,
      "max_width": null,
      "min_height": null,
      "min_width": null,
      "object_fit": null,
      "object_position": null,
      "order": null,
      "overflow": null,
      "overflow_x": null,
      "overflow_y": null,
      "padding": null,
      "right": null,
      "top": null,
      "visibility": null,
      "width": null
     }
    },
    "3e87ca414f9544159e1fb0b300dd4a5f": {
     "model_module": "@jupyter-widgets/base",
     "model_module_version": "1.2.0",
     "model_name": "LayoutModel",
     "state": {
      "_model_module": "@jupyter-widgets/base",
      "_model_module_version": "1.2.0",
      "_model_name": "LayoutModel",
      "_view_count": null,
      "_view_module": "@jupyter-widgets/base",
      "_view_module_version": "1.2.0",
      "_view_name": "LayoutView",
      "align_content": null,
      "align_items": null,
      "align_self": null,
      "border": null,
      "bottom": null,
      "display": null,
      "flex": null,
      "flex_flow": null,
      "grid_area": null,
      "grid_auto_columns": null,
      "grid_auto_flow": null,
      "grid_auto_rows": null,
      "grid_column": null,
      "grid_gap": null,
      "grid_row": null,
      "grid_template_areas": null,
      "grid_template_columns": null,
      "grid_template_rows": null,
      "height": null,
      "justify_content": null,
      "justify_items": null,
      "left": null,
      "margin": null,
      "max_height": null,
      "max_width": null,
      "min_height": null,
      "min_width": null,
      "object_fit": null,
      "object_position": null,
      "order": null,
      "overflow": null,
      "overflow_x": null,
      "overflow_y": null,
      "padding": null,
      "right": null,
      "top": null,
      "visibility": null,
      "width": null
     }
    },
    "3efc961e589142368e756a17d728675f": {
     "model_module": "@jupyter-widgets/base",
     "model_module_version": "1.2.0",
     "model_name": "LayoutModel",
     "state": {
      "_model_module": "@jupyter-widgets/base",
      "_model_module_version": "1.2.0",
      "_model_name": "LayoutModel",
      "_view_count": null,
      "_view_module": "@jupyter-widgets/base",
      "_view_module_version": "1.2.0",
      "_view_name": "LayoutView",
      "align_content": null,
      "align_items": null,
      "align_self": null,
      "border": null,
      "bottom": null,
      "display": null,
      "flex": null,
      "flex_flow": null,
      "grid_area": null,
      "grid_auto_columns": null,
      "grid_auto_flow": null,
      "grid_auto_rows": null,
      "grid_column": null,
      "grid_gap": null,
      "grid_row": null,
      "grid_template_areas": null,
      "grid_template_columns": null,
      "grid_template_rows": null,
      "height": null,
      "justify_content": null,
      "justify_items": null,
      "left": null,
      "margin": null,
      "max_height": null,
      "max_width": null,
      "min_height": null,
      "min_width": null,
      "object_fit": null,
      "object_position": null,
      "order": null,
      "overflow": null,
      "overflow_x": null,
      "overflow_y": null,
      "padding": null,
      "right": null,
      "top": null,
      "visibility": null,
      "width": null
     }
    },
    "439ba84d0bb4463e8fc8665314a2bc1e": {
     "model_module": "@jupyter-widgets/base",
     "model_module_version": "1.2.0",
     "model_name": "LayoutModel",
     "state": {
      "_model_module": "@jupyter-widgets/base",
      "_model_module_version": "1.2.0",
      "_model_name": "LayoutModel",
      "_view_count": null,
      "_view_module": "@jupyter-widgets/base",
      "_view_module_version": "1.2.0",
      "_view_name": "LayoutView",
      "align_content": null,
      "align_items": null,
      "align_self": null,
      "border": null,
      "bottom": null,
      "display": null,
      "flex": null,
      "flex_flow": null,
      "grid_area": null,
      "grid_auto_columns": null,
      "grid_auto_flow": null,
      "grid_auto_rows": null,
      "grid_column": null,
      "grid_gap": null,
      "grid_row": null,
      "grid_template_areas": null,
      "grid_template_columns": null,
      "grid_template_rows": null,
      "height": null,
      "justify_content": null,
      "justify_items": null,
      "left": null,
      "margin": null,
      "max_height": null,
      "max_width": null,
      "min_height": null,
      "min_width": null,
      "object_fit": null,
      "object_position": null,
      "order": null,
      "overflow": null,
      "overflow_x": null,
      "overflow_y": null,
      "padding": null,
      "right": null,
      "top": null,
      "visibility": null,
      "width": null
     }
    },
    "45f4f2a991d74fb187c739d7a5ac454f": {
     "model_module": "@jupyter-widgets/controls",
     "model_module_version": "1.5.0",
     "model_name": "ProgressStyleModel",
     "state": {
      "_model_module": "@jupyter-widgets/controls",
      "_model_module_version": "1.5.0",
      "_model_name": "ProgressStyleModel",
      "_view_count": null,
      "_view_module": "@jupyter-widgets/base",
      "_view_module_version": "1.2.0",
      "_view_name": "StyleView",
      "bar_color": null,
      "description_width": ""
     }
    },
    "48616bd27ee94f2bb2cc98b17bfa16c8": {
     "model_module": "@jupyter-widgets/base",
     "model_module_version": "1.2.0",
     "model_name": "LayoutModel",
     "state": {
      "_model_module": "@jupyter-widgets/base",
      "_model_module_version": "1.2.0",
      "_model_name": "LayoutModel",
      "_view_count": null,
      "_view_module": "@jupyter-widgets/base",
      "_view_module_version": "1.2.0",
      "_view_name": "LayoutView",
      "align_content": null,
      "align_items": null,
      "align_self": null,
      "border": null,
      "bottom": null,
      "display": null,
      "flex": null,
      "flex_flow": null,
      "grid_area": null,
      "grid_auto_columns": null,
      "grid_auto_flow": null,
      "grid_auto_rows": null,
      "grid_column": null,
      "grid_gap": null,
      "grid_row": null,
      "grid_template_areas": null,
      "grid_template_columns": null,
      "grid_template_rows": null,
      "height": null,
      "justify_content": null,
      "justify_items": null,
      "left": null,
      "margin": null,
      "max_height": null,
      "max_width": null,
      "min_height": null,
      "min_width": null,
      "object_fit": null,
      "object_position": null,
      "order": null,
      "overflow": null,
      "overflow_x": null,
      "overflow_y": null,
      "padding": null,
      "right": null,
      "top": null,
      "visibility": null,
      "width": null
     }
    },
    "4ba8813eba614c2ba972d7712c268cb7": {
     "model_module": "@jupyter-widgets/base",
     "model_module_version": "1.2.0",
     "model_name": "LayoutModel",
     "state": {
      "_model_module": "@jupyter-widgets/base",
      "_model_module_version": "1.2.0",
      "_model_name": "LayoutModel",
      "_view_count": null,
      "_view_module": "@jupyter-widgets/base",
      "_view_module_version": "1.2.0",
      "_view_name": "LayoutView",
      "align_content": null,
      "align_items": null,
      "align_self": null,
      "border": null,
      "bottom": null,
      "display": null,
      "flex": null,
      "flex_flow": null,
      "grid_area": null,
      "grid_auto_columns": null,
      "grid_auto_flow": null,
      "grid_auto_rows": null,
      "grid_column": null,
      "grid_gap": null,
      "grid_row": null,
      "grid_template_areas": null,
      "grid_template_columns": null,
      "grid_template_rows": null,
      "height": null,
      "justify_content": null,
      "justify_items": null,
      "left": null,
      "margin": null,
      "max_height": null,
      "max_width": null,
      "min_height": null,
      "min_width": null,
      "object_fit": null,
      "object_position": null,
      "order": null,
      "overflow": null,
      "overflow_x": null,
      "overflow_y": null,
      "padding": null,
      "right": null,
      "top": null,
      "visibility": null,
      "width": null
     }
    },
    "4c70b92351af46c18d234c100543741d": {
     "model_module": "@jupyter-widgets/controls",
     "model_module_version": "1.5.0",
     "model_name": "DescriptionStyleModel",
     "state": {
      "_model_module": "@jupyter-widgets/controls",
      "_model_module_version": "1.5.0",
      "_model_name": "DescriptionStyleModel",
      "_view_count": null,
      "_view_module": "@jupyter-widgets/base",
      "_view_module_version": "1.2.0",
      "_view_name": "StyleView",
      "description_width": ""
     }
    },
    "4f7392910dea4913b53278735c2c7f5d": {
     "model_module": "@jupyter-widgets/base",
     "model_module_version": "1.2.0",
     "model_name": "LayoutModel",
     "state": {
      "_model_module": "@jupyter-widgets/base",
      "_model_module_version": "1.2.0",
      "_model_name": "LayoutModel",
      "_view_count": null,
      "_view_module": "@jupyter-widgets/base",
      "_view_module_version": "1.2.0",
      "_view_name": "LayoutView",
      "align_content": null,
      "align_items": null,
      "align_self": null,
      "border": null,
      "bottom": null,
      "display": null,
      "flex": null,
      "flex_flow": null,
      "grid_area": null,
      "grid_auto_columns": null,
      "grid_auto_flow": null,
      "grid_auto_rows": null,
      "grid_column": null,
      "grid_gap": null,
      "grid_row": null,
      "grid_template_areas": null,
      "grid_template_columns": null,
      "grid_template_rows": null,
      "height": null,
      "justify_content": null,
      "justify_items": null,
      "left": null,
      "margin": null,
      "max_height": null,
      "max_width": null,
      "min_height": null,
      "min_width": null,
      "object_fit": null,
      "object_position": null,
      "order": null,
      "overflow": null,
      "overflow_x": null,
      "overflow_y": null,
      "padding": null,
      "right": null,
      "top": null,
      "visibility": null,
      "width": null
     }
    },
    "512adef1758a47ea874dc0e77eccb96c": {
     "model_module": "@jupyter-widgets/controls",
     "model_module_version": "1.5.0",
     "model_name": "HTMLModel",
     "state": {
      "_dom_classes": [],
      "_model_module": "@jupyter-widgets/controls",
      "_model_module_version": "1.5.0",
      "_model_name": "HTMLModel",
      "_view_count": null,
      "_view_module": "@jupyter-widgets/controls",
      "_view_module_version": "1.5.0",
      "_view_name": "HTMLView",
      "description": "",
      "description_tooltip": null,
      "layout": "IPY_MODEL_98a6d809fd2e4eb2826191fb93529748",
      "placeholder": "​",
      "style": "IPY_MODEL_ac1d139dd3e34940af6e18f170eeaab6",
      "value": " 798k/798k [00:00&lt;00:00, 8.35MB/s]"
     }
    },
    "512d555850614cebb3752c5f8282b3ab": {
     "model_module": "@jupyter-widgets/controls",
     "model_module_version": "1.5.0",
     "model_name": "DescriptionStyleModel",
     "state": {
      "_model_module": "@jupyter-widgets/controls",
      "_model_module_version": "1.5.0",
      "_model_name": "DescriptionStyleModel",
      "_view_count": null,
      "_view_module": "@jupyter-widgets/base",
      "_view_module_version": "1.2.0",
      "_view_name": "StyleView",
      "description_width": ""
     }
    },
    "5303aff073b24888a12908a574cdb356": {
     "model_module": "@jupyter-widgets/controls",
     "model_module_version": "1.5.0",
     "model_name": "DescriptionStyleModel",
     "state": {
      "_model_module": "@jupyter-widgets/controls",
      "_model_module_version": "1.5.0",
      "_model_name": "DescriptionStyleModel",
      "_view_count": null,
      "_view_module": "@jupyter-widgets/base",
      "_view_module_version": "1.2.0",
      "_view_name": "StyleView",
      "description_width": ""
     }
    },
    "5c19df9d4d0d4718a957e36745b3c7d5": {
     "model_module": "@jupyter-widgets/base",
     "model_module_version": "1.2.0",
     "model_name": "LayoutModel",
     "state": {
      "_model_module": "@jupyter-widgets/base",
      "_model_module_version": "1.2.0",
      "_model_name": "LayoutModel",
      "_view_count": null,
      "_view_module": "@jupyter-widgets/base",
      "_view_module_version": "1.2.0",
      "_view_name": "LayoutView",
      "align_content": null,
      "align_items": null,
      "align_self": null,
      "border": null,
      "bottom": null,
      "display": null,
      "flex": null,
      "flex_flow": null,
      "grid_area": null,
      "grid_auto_columns": null,
      "grid_auto_flow": null,
      "grid_auto_rows": null,
      "grid_column": null,
      "grid_gap": null,
      "grid_row": null,
      "grid_template_areas": null,
      "grid_template_columns": null,
      "grid_template_rows": null,
      "height": null,
      "justify_content": null,
      "justify_items": null,
      "left": null,
      "margin": null,
      "max_height": null,
      "max_width": null,
      "min_height": null,
      "min_width": null,
      "object_fit": null,
      "object_position": null,
      "order": null,
      "overflow": null,
      "overflow_x": null,
      "overflow_y": null,
      "padding": null,
      "right": null,
      "top": null,
      "visibility": null,
      "width": null
     }
    },
    "5ea870fb11dc4d89b971add64aada3b0": {
     "model_module": "@jupyter-widgets/controls",
     "model_module_version": "1.5.0",
     "model_name": "ProgressStyleModel",
     "state": {
      "_model_module": "@jupyter-widgets/controls",
      "_model_module_version": "1.5.0",
      "_model_name": "ProgressStyleModel",
      "_view_count": null,
      "_view_module": "@jupyter-widgets/base",
      "_view_module_version": "1.2.0",
      "_view_name": "StyleView",
      "bar_color": null,
      "description_width": ""
     }
    },
    "61e5747ae22c4bce8ad370429752795d": {
     "model_module": "@jupyter-widgets/base",
     "model_module_version": "1.2.0",
     "model_name": "LayoutModel",
     "state": {
      "_model_module": "@jupyter-widgets/base",
      "_model_module_version": "1.2.0",
      "_model_name": "LayoutModel",
      "_view_count": null,
      "_view_module": "@jupyter-widgets/base",
      "_view_module_version": "1.2.0",
      "_view_name": "LayoutView",
      "align_content": null,
      "align_items": null,
      "align_self": null,
      "border": null,
      "bottom": null,
      "display": null,
      "flex": null,
      "flex_flow": null,
      "grid_area": null,
      "grid_auto_columns": null,
      "grid_auto_flow": null,
      "grid_auto_rows": null,
      "grid_column": null,
      "grid_gap": null,
      "grid_row": null,
      "grid_template_areas": null,
      "grid_template_columns": null,
      "grid_template_rows": null,
      "height": null,
      "justify_content": null,
      "justify_items": null,
      "left": null,
      "margin": null,
      "max_height": null,
      "max_width": null,
      "min_height": null,
      "min_width": null,
      "object_fit": null,
      "object_position": null,
      "order": null,
      "overflow": null,
      "overflow_x": null,
      "overflow_y": null,
      "padding": null,
      "right": null,
      "top": null,
      "visibility": null,
      "width": null
     }
    },
    "63e9d8d2343c40aa854053e19c248c31": {
     "model_module": "@jupyter-widgets/base",
     "model_module_version": "1.2.0",
     "model_name": "LayoutModel",
     "state": {
      "_model_module": "@jupyter-widgets/base",
      "_model_module_version": "1.2.0",
      "_model_name": "LayoutModel",
      "_view_count": null,
      "_view_module": "@jupyter-widgets/base",
      "_view_module_version": "1.2.0",
      "_view_name": "LayoutView",
      "align_content": null,
      "align_items": null,
      "align_self": null,
      "border": null,
      "bottom": null,
      "display": null,
      "flex": null,
      "flex_flow": null,
      "grid_area": null,
      "grid_auto_columns": null,
      "grid_auto_flow": null,
      "grid_auto_rows": null,
      "grid_column": null,
      "grid_gap": null,
      "grid_row": null,
      "grid_template_areas": null,
      "grid_template_columns": null,
      "grid_template_rows": null,
      "height": null,
      "justify_content": null,
      "justify_items": null,
      "left": null,
      "margin": null,
      "max_height": null,
      "max_width": null,
      "min_height": null,
      "min_width": null,
      "object_fit": null,
      "object_position": null,
      "order": null,
      "overflow": null,
      "overflow_x": null,
      "overflow_y": null,
      "padding": null,
      "right": null,
      "top": null,
      "visibility": null,
      "width": null
     }
    },
    "67911f8020a7411096dc9ae262bf7f43": {
     "model_module": "@jupyter-widgets/controls",
     "model_module_version": "1.5.0",
     "model_name": "HBoxModel",
     "state": {
      "_dom_classes": [],
      "_model_module": "@jupyter-widgets/controls",
      "_model_module_version": "1.5.0",
      "_model_name": "HBoxModel",
      "_view_count": null,
      "_view_module": "@jupyter-widgets/controls",
      "_view_module_version": "1.5.0",
      "_view_name": "HBoxView",
      "box_style": "",
      "children": [
       "IPY_MODEL_19e32bbdc9db42e3a7bc9e0745a55975",
       "IPY_MODEL_d4311eee392e4058b6980b76889b4104",
       "IPY_MODEL_7494c50ecead419bb8b6c630a3b3bd10"
      ],
      "layout": "IPY_MODEL_354eb994b6f242af91cfda1b62229ced"
     }
    },
    "6de9ec605e3f4511ab294ad64f2069f4": {
     "model_module": "@jupyter-widgets/controls",
     "model_module_version": "1.5.0",
     "model_name": "FloatProgressModel",
     "state": {
      "_dom_classes": [],
      "_model_module": "@jupyter-widgets/controls",
      "_model_module_version": "1.5.0",
      "_model_name": "FloatProgressModel",
      "_view_count": null,
      "_view_module": "@jupyter-widgets/controls",
      "_view_module_version": "1.5.0",
      "_view_name": "ProgressView",
      "bar_style": "success",
      "description": "",
      "description_tooltip": null,
      "layout": "IPY_MODEL_f407c340fdf14aa88f2e6e09e4cc364e",
      "max": 239,
      "min": 0,
      "orientation": "horizontal",
      "style": "IPY_MODEL_f897ea6936024431aa1928dfdce3440b",
      "value": 239
     }
    },
    "7494c50ecead419bb8b6c630a3b3bd10": {
     "model_module": "@jupyter-widgets/controls",
     "model_module_version": "1.5.0",
     "model_name": "HTMLModel",
     "state": {
      "_dom_classes": [],
      "_model_module": "@jupyter-widgets/controls",
      "_model_module_version": "1.5.0",
      "_model_name": "HTMLModel",
      "_view_count": null,
      "_view_module": "@jupyter-widgets/controls",
      "_view_module_version": "1.5.0",
      "_view_name": "HTMLView",
      "description": "",
      "description_tooltip": null,
      "layout": "IPY_MODEL_d34faa583d3e428cb3b8aae54096bf4b",
      "placeholder": "​",
      "style": "IPY_MODEL_93ed3331da2c4a3f84408a764faed31b",
      "value": " 25.0/25.0 [00:00&lt;00:00, 1.38kB/s]"
     }
    },
    "78a2e314b1f74f7d9d804bb0064d89f9": {
     "model_module": "@jupyter-widgets/base",
     "model_module_version": "1.2.0",
     "model_name": "LayoutModel",
     "state": {
      "_model_module": "@jupyter-widgets/base",
      "_model_module_version": "1.2.0",
      "_model_name": "LayoutModel",
      "_view_count": null,
      "_view_module": "@jupyter-widgets/base",
      "_view_module_version": "1.2.0",
      "_view_name": "LayoutView",
      "align_content": null,
      "align_items": null,
      "align_self": null,
      "border": null,
      "bottom": null,
      "display": null,
      "flex": null,
      "flex_flow": null,
      "grid_area": null,
      "grid_auto_columns": null,
      "grid_auto_flow": null,
      "grid_auto_rows": null,
      "grid_column": null,
      "grid_gap": null,
      "grid_row": null,
      "grid_template_areas": null,
      "grid_template_columns": null,
      "grid_template_rows": null,
      "height": null,
      "justify_content": null,
      "justify_items": null,
      "left": null,
      "margin": null,
      "max_height": null,
      "max_width": null,
      "min_height": null,
      "min_width": null,
      "object_fit": null,
      "object_position": null,
      "order": null,
      "overflow": null,
      "overflow_x": null,
      "overflow_y": null,
      "padding": null,
      "right": null,
      "top": null,
      "visibility": null,
      "width": null
     }
    },
    "7c0d9ee8bada4d9baa8d1815a8a606e2": {
     "model_module": "@jupyter-widgets/controls",
     "model_module_version": "1.5.0",
     "model_name": "ProgressStyleModel",
     "state": {
      "_model_module": "@jupyter-widgets/controls",
      "_model_module_version": "1.5.0",
      "_model_name": "ProgressStyleModel",
      "_view_count": null,
      "_view_module": "@jupyter-widgets/base",
      "_view_module_version": "1.2.0",
      "_view_name": "StyleView",
      "bar_color": null,
      "description_width": ""
     }
    },
    "7cbbd6a15806455aabd04584ff440427": {
     "model_module": "@jupyter-widgets/controls",
     "model_module_version": "1.5.0",
     "model_name": "FloatProgressModel",
     "state": {
      "_dom_classes": [],
      "_model_module": "@jupyter-widgets/controls",
      "_model_module_version": "1.5.0",
      "_model_name": "FloatProgressModel",
      "_view_count": null,
      "_view_module": "@jupyter-widgets/controls",
      "_view_module_version": "1.5.0",
      "_view_name": "ProgressView",
      "bar_style": "success",
      "description": "",
      "description_tooltip": null,
      "layout": "IPY_MODEL_48616bd27ee94f2bb2cc98b17bfa16c8",
      "max": 794,
      "min": 0,
      "orientation": "horizontal",
      "style": "IPY_MODEL_1e8b4ecaf24644338535a397fac0ed6a",
      "value": 794
     }
    },
    "7f0b449203e14a9980107904295d505d": {
     "model_module": "@jupyter-widgets/controls",
     "model_module_version": "1.5.0",
     "model_name": "DescriptionStyleModel",
     "state": {
      "_model_module": "@jupyter-widgets/controls",
      "_model_module_version": "1.5.0",
      "_model_name": "DescriptionStyleModel",
      "_view_count": null,
      "_view_module": "@jupyter-widgets/base",
      "_view_module_version": "1.2.0",
      "_view_name": "StyleView",
      "description_width": ""
     }
    },
    "827f386f9ef641699be825dd8d158351": {
     "model_module": "@jupyter-widgets/controls",
     "model_module_version": "1.5.0",
     "model_name": "HBoxModel",
     "state": {
      "_dom_classes": [],
      "_model_module": "@jupyter-widgets/controls",
      "_model_module_version": "1.5.0",
      "_model_name": "HBoxModel",
      "_view_count": null,
      "_view_module": "@jupyter-widgets/controls",
      "_view_module_version": "1.5.0",
      "_view_name": "HBoxView",
      "box_style": "",
      "children": [
       "IPY_MODEL_df1c8c68fe834156923a29e5efb9356b",
       "IPY_MODEL_07de2c8828f647dbbb907f8e540398cf",
       "IPY_MODEL_c6aebff8d02a4671b411cc85ec648dc3"
      ],
      "layout": "IPY_MODEL_78a2e314b1f74f7d9d804bb0064d89f9"
     }
    },
    "845a2c7e201c40e0873f05dbf8858776": {
     "model_module": "@jupyter-widgets/base",
     "model_module_version": "1.2.0",
     "model_name": "LayoutModel",
     "state": {
      "_model_module": "@jupyter-widgets/base",
      "_model_module_version": "1.2.0",
      "_model_name": "LayoutModel",
      "_view_count": null,
      "_view_module": "@jupyter-widgets/base",
      "_view_module_version": "1.2.0",
      "_view_name": "LayoutView",
      "align_content": null,
      "align_items": null,
      "align_self": null,
      "border": null,
      "bottom": null,
      "display": null,
      "flex": null,
      "flex_flow": null,
      "grid_area": null,
      "grid_auto_columns": null,
      "grid_auto_flow": null,
      "grid_auto_rows": null,
      "grid_column": null,
      "grid_gap": null,
      "grid_row": null,
      "grid_template_areas": null,
      "grid_template_columns": null,
      "grid_template_rows": null,
      "height": null,
      "justify_content": null,
      "justify_items": null,
      "left": null,
      "margin": null,
      "max_height": null,
      "max_width": null,
      "min_height": null,
      "min_width": null,
      "object_fit": null,
      "object_position": null,
      "order": null,
      "overflow": null,
      "overflow_x": null,
      "overflow_y": null,
      "padding": null,
      "right": null,
      "top": null,
      "visibility": null,
      "width": null
     }
    },
    "8c6f487824fd457182d328eb155f4afe": {
     "model_module": "@jupyter-widgets/controls",
     "model_module_version": "1.5.0",
     "model_name": "HTMLModel",
     "state": {
      "_dom_classes": [],
      "_model_module": "@jupyter-widgets/controls",
      "_model_module_version": "1.5.0",
      "_model_name": "HTMLModel",
      "_view_count": null,
      "_view_module": "@jupyter-widgets/controls",
      "_view_module_version": "1.5.0",
      "_view_name": "HTMLView",
      "description": "",
      "description_tooltip": null,
      "layout": "IPY_MODEL_3efc961e589142368e756a17d728675f",
      "placeholder": "​",
      "style": "IPY_MODEL_cc92402763354b05912a39cd935e4305",
      "value": "Downloading (…)olve/main/vocab.json: 100%"
     }
    },
    "8f5d8fcc70924a1e93b2560bd88a0b68": {
     "model_module": "@jupyter-widgets/base",
     "model_module_version": "1.2.0",
     "model_name": "LayoutModel",
     "state": {
      "_model_module": "@jupyter-widgets/base",
      "_model_module_version": "1.2.0",
      "_model_name": "LayoutModel",
      "_view_count": null,
      "_view_module": "@jupyter-widgets/base",
      "_view_module_version": "1.2.0",
      "_view_name": "LayoutView",
      "align_content": null,
      "align_items": null,
      "align_self": null,
      "border": null,
      "bottom": null,
      "display": null,
      "flex": null,
      "flex_flow": null,
      "grid_area": null,
      "grid_auto_columns": null,
      "grid_auto_flow": null,
      "grid_auto_rows": null,
      "grid_column": null,
      "grid_gap": null,
      "grid_row": null,
      "grid_template_areas": null,
      "grid_template_columns": null,
      "grid_template_rows": null,
      "height": null,
      "justify_content": null,
      "justify_items": null,
      "left": null,
      "margin": null,
      "max_height": null,
      "max_width": null,
      "min_height": null,
      "min_width": null,
      "object_fit": null,
      "object_position": null,
      "order": null,
      "overflow": null,
      "overflow_x": null,
      "overflow_y": null,
      "padding": null,
      "right": null,
      "top": null,
      "visibility": null,
      "width": null
     }
    },
    "8fb5b42510db421295ff98dfdba80904": {
     "model_module": "@jupyter-widgets/base",
     "model_module_version": "1.2.0",
     "model_name": "LayoutModel",
     "state": {
      "_model_module": "@jupyter-widgets/base",
      "_model_module_version": "1.2.0",
      "_model_name": "LayoutModel",
      "_view_count": null,
      "_view_module": "@jupyter-widgets/base",
      "_view_module_version": "1.2.0",
      "_view_name": "LayoutView",
      "align_content": null,
      "align_items": null,
      "align_self": null,
      "border": null,
      "bottom": null,
      "display": null,
      "flex": null,
      "flex_flow": null,
      "grid_area": null,
      "grid_auto_columns": null,
      "grid_auto_flow": null,
      "grid_auto_rows": null,
      "grid_column": null,
      "grid_gap": null,
      "grid_row": null,
      "grid_template_areas": null,
      "grid_template_columns": null,
      "grid_template_rows": null,
      "height": null,
      "justify_content": null,
      "justify_items": null,
      "left": null,
      "margin": null,
      "max_height": null,
      "max_width": null,
      "min_height": null,
      "min_width": null,
      "object_fit": null,
      "object_position": null,
      "order": null,
      "overflow": null,
      "overflow_x": null,
      "overflow_y": null,
      "padding": null,
      "right": null,
      "top": null,
      "visibility": null,
      "width": null
     }
    },
    "93ed3331da2c4a3f84408a764faed31b": {
     "model_module": "@jupyter-widgets/controls",
     "model_module_version": "1.5.0",
     "model_name": "DescriptionStyleModel",
     "state": {
      "_model_module": "@jupyter-widgets/controls",
      "_model_module_version": "1.5.0",
      "_model_name": "DescriptionStyleModel",
      "_view_count": null,
      "_view_module": "@jupyter-widgets/base",
      "_view_module_version": "1.2.0",
      "_view_name": "StyleView",
      "description_width": ""
     }
    },
    "98a6d809fd2e4eb2826191fb93529748": {
     "model_module": "@jupyter-widgets/base",
     "model_module_version": "1.2.0",
     "model_name": "LayoutModel",
     "state": {
      "_model_module": "@jupyter-widgets/base",
      "_model_module_version": "1.2.0",
      "_model_name": "LayoutModel",
      "_view_count": null,
      "_view_module": "@jupyter-widgets/base",
      "_view_module_version": "1.2.0",
      "_view_name": "LayoutView",
      "align_content": null,
      "align_items": null,
      "align_self": null,
      "border": null,
      "bottom": null,
      "display": null,
      "flex": null,
      "flex_flow": null,
      "grid_area": null,
      "grid_auto_columns": null,
      "grid_auto_flow": null,
      "grid_auto_rows": null,
      "grid_column": null,
      "grid_gap": null,
      "grid_row": null,
      "grid_template_areas": null,
      "grid_template_columns": null,
      "grid_template_rows": null,
      "height": null,
      "justify_content": null,
      "justify_items": null,
      "left": null,
      "margin": null,
      "max_height": null,
      "max_width": null,
      "min_height": null,
      "min_width": null,
      "object_fit": null,
      "object_position": null,
      "order": null,
      "overflow": null,
      "overflow_x": null,
      "overflow_y": null,
      "padding": null,
      "right": null,
      "top": null,
      "visibility": null,
      "width": null
     }
    },
    "a415ec0fc1a54101bc660d85012794c7": {
     "model_module": "@jupyter-widgets/controls",
     "model_module_version": "1.5.0",
     "model_name": "HTMLModel",
     "state": {
      "_dom_classes": [],
      "_model_module": "@jupyter-widgets/controls",
      "_model_module_version": "1.5.0",
      "_model_name": "HTMLModel",
      "_view_count": null,
      "_view_module": "@jupyter-widgets/controls",
      "_view_module_version": "1.5.0",
      "_view_name": "HTMLView",
      "description": "",
      "description_tooltip": null,
      "layout": "IPY_MODEL_e239f85efa7a4ca38a416157e11b4cfa",
      "placeholder": "​",
      "style": "IPY_MODEL_a98d8d04863b4190a172e48edddd3e74",
      "value": " 794/794 [00:00&lt;00:00, 36.7kB/s]"
     }
    },
    "a44d2526284f4f63b22a020dede08926": {
     "model_module": "@jupyter-widgets/controls",
     "model_module_version": "1.5.0",
     "model_name": "FloatProgressModel",
     "state": {
      "_dom_classes": [],
      "_model_module": "@jupyter-widgets/controls",
      "_model_module_version": "1.5.0",
      "_model_name": "FloatProgressModel",
      "_view_count": null,
      "_view_module": "@jupyter-widgets/controls",
      "_view_module_version": "1.5.0",
      "_view_name": "ProgressView",
      "bar_style": "success",
      "description": "",
      "description_tooltip": null,
      "layout": "IPY_MODEL_845a2c7e201c40e0873f05dbf8858776",
      "max": 718,
      "min": 0,
      "orientation": "horizontal",
      "style": "IPY_MODEL_e4ad44cba2fc4a9886bedd8125d5fbb7",
      "value": 718
     }
    },
    "a7dfff12ff7a4f43ae0e0f7b0f9d3155": {
     "model_module": "@jupyter-widgets/base",
     "model_module_version": "1.2.0",
     "model_name": "LayoutModel",
     "state": {
      "_model_module": "@jupyter-widgets/base",
      "_model_module_version": "1.2.0",
      "_model_name": "LayoutModel",
      "_view_count": null,
      "_view_module": "@jupyter-widgets/base",
      "_view_module_version": "1.2.0",
      "_view_name": "LayoutView",
      "align_content": null,
      "align_items": null,
      "align_self": null,
      "border": null,
      "bottom": null,
      "display": null,
      "flex": null,
      "flex_flow": null,
      "grid_area": null,
      "grid_auto_columns": null,
      "grid_auto_flow": null,
      "grid_auto_rows": null,
      "grid_column": null,
      "grid_gap": null,
      "grid_row": null,
      "grid_template_areas": null,
      "grid_template_columns": null,
      "grid_template_rows": null,
      "height": null,
      "justify_content": null,
      "justify_items": null,
      "left": null,
      "margin": null,
      "max_height": null,
      "max_width": null,
      "min_height": null,
      "min_width": null,
      "object_fit": null,
      "object_position": null,
      "order": null,
      "overflow": null,
      "overflow_x": null,
      "overflow_y": null,
      "padding": null,
      "right": null,
      "top": null,
      "visibility": null,
      "width": null
     }
    },
    "a95c077e4d854359bff02a1d5845e0a3": {
     "model_module": "@jupyter-widgets/controls",
     "model_module_version": "1.5.0",
     "model_name": "HTMLModel",
     "state": {
      "_dom_classes": [],
      "_model_module": "@jupyter-widgets/controls",
      "_model_module_version": "1.5.0",
      "_model_name": "HTMLModel",
      "_view_count": null,
      "_view_module": "@jupyter-widgets/controls",
      "_view_module_version": "1.5.0",
      "_view_name": "HTMLView",
      "description": "",
      "description_tooltip": null,
      "layout": "IPY_MODEL_a7dfff12ff7a4f43ae0e0f7b0f9d3155",
      "placeholder": "​",
      "style": "IPY_MODEL_4c70b92351af46c18d234c100543741d",
      "value": "Downloading (…)olve/main/merges.txt: 100%"
     }
    },
    "a98d8d04863b4190a172e48edddd3e74": {
     "model_module": "@jupyter-widgets/controls",
     "model_module_version": "1.5.0",
     "model_name": "DescriptionStyleModel",
     "state": {
      "_model_module": "@jupyter-widgets/controls",
      "_model_module_version": "1.5.0",
      "_model_name": "DescriptionStyleModel",
      "_view_count": null,
      "_view_module": "@jupyter-widgets/base",
      "_view_module_version": "1.2.0",
      "_view_name": "StyleView",
      "description_width": ""
     }
    },
    "ac1d139dd3e34940af6e18f170eeaab6": {
     "model_module": "@jupyter-widgets/controls",
     "model_module_version": "1.5.0",
     "model_name": "DescriptionStyleModel",
     "state": {
      "_model_module": "@jupyter-widgets/controls",
      "_model_module_version": "1.5.0",
      "_model_name": "DescriptionStyleModel",
      "_view_count": null,
      "_view_module": "@jupyter-widgets/base",
      "_view_module_version": "1.2.0",
      "_view_name": "StyleView",
      "description_width": ""
     }
    },
    "af5a2c4baf8c4bffa1cbcfd10ecc5ccf": {
     "model_module": "@jupyter-widgets/controls",
     "model_module_version": "1.5.0",
     "model_name": "HBoxModel",
     "state": {
      "_dom_classes": [],
      "_model_module": "@jupyter-widgets/controls",
      "_model_module_version": "1.5.0",
      "_model_name": "HBoxModel",
      "_view_count": null,
      "_view_module": "@jupyter-widgets/controls",
      "_view_module_version": "1.5.0",
      "_view_name": "HBoxView",
      "box_style": "",
      "children": [
       "IPY_MODEL_8c6f487824fd457182d328eb155f4afe",
       "IPY_MODEL_f4f44c9430f94247b9a7fdf405cde329",
       "IPY_MODEL_512adef1758a47ea874dc0e77eccb96c"
      ],
      "layout": "IPY_MODEL_5c19df9d4d0d4718a957e36745b3c7d5"
     }
    },
    "b905d54c022a4deb96c66190711cfa75": {
     "model_module": "@jupyter-widgets/controls",
     "model_module_version": "1.5.0",
     "model_name": "HTMLModel",
     "state": {
      "_dom_classes": [],
      "_model_module": "@jupyter-widgets/controls",
      "_model_module_version": "1.5.0",
      "_model_name": "HTMLModel",
      "_view_count": null,
      "_view_module": "@jupyter-widgets/controls",
      "_view_module_version": "1.5.0",
      "_view_name": "HTMLView",
      "description": "",
      "description_tooltip": null,
      "layout": "IPY_MODEL_439ba84d0bb4463e8fc8665314a2bc1e",
      "placeholder": "​",
      "style": "IPY_MODEL_27390f2e84984f279bb566ce86d6daef",
      "value": "Downloading: 100%"
     }
    },
    "bd74d4ef0f8b4fdf87c7bf5a6131e7ef": {
     "model_module": "@jupyter-widgets/controls",
     "model_module_version": "1.5.0",
     "model_name": "DescriptionStyleModel",
     "state": {
      "_model_module": "@jupyter-widgets/controls",
      "_model_module_version": "1.5.0",
      "_model_name": "DescriptionStyleModel",
      "_view_count": null,
      "_view_module": "@jupyter-widgets/base",
      "_view_module_version": "1.2.0",
      "_view_name": "StyleView",
      "description_width": ""
     }
    },
    "c1e1c72622e44717a5866579560f052f": {
     "model_module": "@jupyter-widgets/controls",
     "model_module_version": "1.5.0",
     "model_name": "HTMLModel",
     "state": {
      "_dom_classes": [],
      "_model_module": "@jupyter-widgets/controls",
      "_model_module_version": "1.5.0",
      "_model_name": "HTMLModel",
      "_view_count": null,
      "_view_module": "@jupyter-widgets/controls",
      "_view_module_version": "1.5.0",
      "_view_name": "HTMLView",
      "description": "",
      "description_tooltip": null,
      "layout": "IPY_MODEL_17c2eefc38384580afa79cd47cd1351e",
      "placeholder": "​",
      "style": "IPY_MODEL_37524f1e992a4945bfe3046b660ceb7b",
      "value": "Downloading (…)lve/main/config.json: 100%"
     }
    },
    "c6aebff8d02a4671b411cc85ec648dc3": {
     "model_module": "@jupyter-widgets/controls",
     "model_module_version": "1.5.0",
     "model_name": "HTMLModel",
     "state": {
      "_dom_classes": [],
      "_model_module": "@jupyter-widgets/controls",
      "_model_module_version": "1.5.0",
      "_model_name": "HTMLModel",
      "_view_count": null,
      "_view_module": "@jupyter-widgets/controls",
      "_view_module_version": "1.5.0",
      "_view_name": "HTMLView",
      "description": "",
      "description_tooltip": null,
      "layout": "IPY_MODEL_e389911ba1f548e9a6b1d8098c01c9cd",
      "placeholder": "​",
      "style": "IPY_MODEL_7f0b449203e14a9980107904295d505d",
      "value": " 501M/501M [00:04&lt;00:00, 102MB/s]"
     }
    },
    "c7700cd3409c42298bf594acdf06fdda": {
     "model_module": "@jupyter-widgets/base",
     "model_module_version": "1.2.0",
     "model_name": "LayoutModel",
     "state": {
      "_model_module": "@jupyter-widgets/base",
      "_model_module_version": "1.2.0",
      "_model_name": "LayoutModel",
      "_view_count": null,
      "_view_module": "@jupyter-widgets/base",
      "_view_module_version": "1.2.0",
      "_view_name": "LayoutView",
      "align_content": null,
      "align_items": null,
      "align_self": null,
      "border": null,
      "bottom": null,
      "display": null,
      "flex": null,
      "flex_flow": null,
      "grid_area": null,
      "grid_auto_columns": null,
      "grid_auto_flow": null,
      "grid_auto_rows": null,
      "grid_column": null,
      "grid_gap": null,
      "grid_row": null,
      "grid_template_areas": null,
      "grid_template_columns": null,
      "grid_template_rows": null,
      "height": null,
      "justify_content": null,
      "justify_items": null,
      "left": null,
      "margin": null,
      "max_height": null,
      "max_width": null,
      "min_height": null,
      "min_width": null,
      "object_fit": null,
      "object_position": null,
      "order": null,
      "overflow": null,
      "overflow_x": null,
      "overflow_y": null,
      "padding": null,
      "right": null,
      "top": null,
      "visibility": null,
      "width": null
     }
    },
    "cc6f0d9520304163a85e958c86f82817": {
     "model_module": "@jupyter-widgets/base",
     "model_module_version": "1.2.0",
     "model_name": "LayoutModel",
     "state": {
      "_model_module": "@jupyter-widgets/base",
      "_model_module_version": "1.2.0",
      "_model_name": "LayoutModel",
      "_view_count": null,
      "_view_module": "@jupyter-widgets/base",
      "_view_module_version": "1.2.0",
      "_view_name": "LayoutView",
      "align_content": null,
      "align_items": null,
      "align_self": null,
      "border": null,
      "bottom": null,
      "display": null,
      "flex": null,
      "flex_flow": null,
      "grid_area": null,
      "grid_auto_columns": null,
      "grid_auto_flow": null,
      "grid_auto_rows": null,
      "grid_column": null,
      "grid_gap": null,
      "grid_row": null,
      "grid_template_areas": null,
      "grid_template_columns": null,
      "grid_template_rows": null,
      "height": null,
      "justify_content": null,
      "justify_items": null,
      "left": null,
      "margin": null,
      "max_height": null,
      "max_width": null,
      "min_height": null,
      "min_width": null,
      "object_fit": null,
      "object_position": null,
      "order": null,
      "overflow": null,
      "overflow_x": null,
      "overflow_y": null,
      "padding": null,
      "right": null,
      "top": null,
      "visibility": null,
      "width": null
     }
    },
    "cc92402763354b05912a39cd935e4305": {
     "model_module": "@jupyter-widgets/controls",
     "model_module_version": "1.5.0",
     "model_name": "DescriptionStyleModel",
     "state": {
      "_model_module": "@jupyter-widgets/controls",
      "_model_module_version": "1.5.0",
      "_model_name": "DescriptionStyleModel",
      "_view_count": null,
      "_view_module": "@jupyter-widgets/base",
      "_view_module_version": "1.2.0",
      "_view_name": "StyleView",
      "description_width": ""
     }
    },
    "d0f39500ce364496a59ba4287b350c61": {
     "model_module": "@jupyter-widgets/controls",
     "model_module_version": "1.5.0",
     "model_name": "HBoxModel",
     "state": {
      "_dom_classes": [],
      "_model_module": "@jupyter-widgets/controls",
      "_model_module_version": "1.5.0",
      "_model_name": "HBoxModel",
      "_view_count": null,
      "_view_module": "@jupyter-widgets/controls",
      "_view_module_version": "1.5.0",
      "_view_name": "HBoxView",
      "box_style": "",
      "children": [
       "IPY_MODEL_b905d54c022a4deb96c66190711cfa75",
       "IPY_MODEL_a44d2526284f4f63b22a020dede08926",
       "IPY_MODEL_160ab4a423b94f1f9f99e003403c060d"
      ],
      "layout": "IPY_MODEL_63e9d8d2343c40aa854053e19c248c31"
     }
    },
    "d34faa583d3e428cb3b8aae54096bf4b": {
     "model_module": "@jupyter-widgets/base",
     "model_module_version": "1.2.0",
     "model_name": "LayoutModel",
     "state": {
      "_model_module": "@jupyter-widgets/base",
      "_model_module_version": "1.2.0",
      "_model_name": "LayoutModel",
      "_view_count": null,
      "_view_module": "@jupyter-widgets/base",
      "_view_module_version": "1.2.0",
      "_view_name": "LayoutView",
      "align_content": null,
      "align_items": null,
      "align_self": null,
      "border": null,
      "bottom": null,
      "display": null,
      "flex": null,
      "flex_flow": null,
      "grid_area": null,
      "grid_auto_columns": null,
      "grid_auto_flow": null,
      "grid_auto_rows": null,
      "grid_column": null,
      "grid_gap": null,
      "grid_row": null,
      "grid_template_areas": null,
      "grid_template_columns": null,
      "grid_template_rows": null,
      "height": null,
      "justify_content": null,
      "justify_items": null,
      "left": null,
      "margin": null,
      "max_height": null,
      "max_width": null,
      "min_height": null,
      "min_width": null,
      "object_fit": null,
      "object_position": null,
      "order": null,
      "overflow": null,
      "overflow_x": null,
      "overflow_y": null,
      "padding": null,
      "right": null,
      "top": null,
      "visibility": null,
      "width": null
     }
    },
    "d4311eee392e4058b6980b76889b4104": {
     "model_module": "@jupyter-widgets/controls",
     "model_module_version": "1.5.0",
     "model_name": "FloatProgressModel",
     "state": {
      "_dom_classes": [],
      "_model_module": "@jupyter-widgets/controls",
      "_model_module_version": "1.5.0",
      "_model_name": "FloatProgressModel",
      "_view_count": null,
      "_view_module": "@jupyter-widgets/controls",
      "_view_module_version": "1.5.0",
      "_view_name": "ProgressView",
      "bar_style": "success",
      "description": "",
      "description_tooltip": null,
      "layout": "IPY_MODEL_61e5747ae22c4bce8ad370429752795d",
      "max": 25,
      "min": 0,
      "orientation": "horizontal",
      "style": "IPY_MODEL_5ea870fb11dc4d89b971add64aada3b0",
      "value": 25
     }
    },
    "ddd9a857d9f246f5aa26a70968f18855": {
     "model_module": "@jupyter-widgets/base",
     "model_module_version": "1.2.0",
     "model_name": "LayoutModel",
     "state": {
      "_model_module": "@jupyter-widgets/base",
      "_model_module_version": "1.2.0",
      "_model_name": "LayoutModel",
      "_view_count": null,
      "_view_module": "@jupyter-widgets/base",
      "_view_module_version": "1.2.0",
      "_view_name": "LayoutView",
      "align_content": null,
      "align_items": null,
      "align_self": null,
      "border": null,
      "bottom": null,
      "display": null,
      "flex": null,
      "flex_flow": null,
      "grid_area": null,
      "grid_auto_columns": null,
      "grid_auto_flow": null,
      "grid_auto_rows": null,
      "grid_column": null,
      "grid_gap": null,
      "grid_row": null,
      "grid_template_areas": null,
      "grid_template_columns": null,
      "grid_template_rows": null,
      "height": null,
      "justify_content": null,
      "justify_items": null,
      "left": null,
      "margin": null,
      "max_height": null,
      "max_width": null,
      "min_height": null,
      "min_width": null,
      "object_fit": null,
      "object_position": null,
      "order": null,
      "overflow": null,
      "overflow_x": null,
      "overflow_y": null,
      "padding": null,
      "right": null,
      "top": null,
      "visibility": null,
      "width": null
     }
    },
    "df1c8c68fe834156923a29e5efb9356b": {
     "model_module": "@jupyter-widgets/controls",
     "model_module_version": "1.5.0",
     "model_name": "HTMLModel",
     "state": {
      "_dom_classes": [],
      "_model_module": "@jupyter-widgets/controls",
      "_model_module_version": "1.5.0",
      "_model_name": "HTMLModel",
      "_view_count": null,
      "_view_module": "@jupyter-widgets/controls",
      "_view_module_version": "1.5.0",
      "_view_name": "HTMLView",
      "description": "",
      "description_tooltip": null,
      "layout": "IPY_MODEL_399e8df45a1e424e9dc0a38f80eb0aaa",
      "placeholder": "​",
      "style": "IPY_MODEL_1c9435a328044103b1b65b3f788c8015",
      "value": "Downloading pytorch_model.bin: 100%"
     }
    },
    "e239f85efa7a4ca38a416157e11b4cfa": {
     "model_module": "@jupyter-widgets/base",
     "model_module_version": "1.2.0",
     "model_name": "LayoutModel",
     "state": {
      "_model_module": "@jupyter-widgets/base",
      "_model_module_version": "1.2.0",
      "_model_name": "LayoutModel",
      "_view_count": null,
      "_view_module": "@jupyter-widgets/base",
      "_view_module_version": "1.2.0",
      "_view_name": "LayoutView",
      "align_content": null,
      "align_items": null,
      "align_self": null,
      "border": null,
      "bottom": null,
      "display": null,
      "flex": null,
      "flex_flow": null,
      "grid_area": null,
      "grid_auto_columns": null,
      "grid_auto_flow": null,
      "grid_auto_rows": null,
      "grid_column": null,
      "grid_gap": null,
      "grid_row": null,
      "grid_template_areas": null,
      "grid_template_columns": null,
      "grid_template_rows": null,
      "height": null,
      "justify_content": null,
      "justify_items": null,
      "left": null,
      "margin": null,
      "max_height": null,
      "max_width": null,
      "min_height": null,
      "min_width": null,
      "object_fit": null,
      "object_position": null,
      "order": null,
      "overflow": null,
      "overflow_x": null,
      "overflow_y": null,
      "padding": null,
      "right": null,
      "top": null,
      "visibility": null,
      "width": null
     }
    },
    "e389911ba1f548e9a6b1d8098c01c9cd": {
     "model_module": "@jupyter-widgets/base",
     "model_module_version": "1.2.0",
     "model_name": "LayoutModel",
     "state": {
      "_model_module": "@jupyter-widgets/base",
      "_model_module_version": "1.2.0",
      "_model_name": "LayoutModel",
      "_view_count": null,
      "_view_module": "@jupyter-widgets/base",
      "_view_module_version": "1.2.0",
      "_view_name": "LayoutView",
      "align_content": null,
      "align_items": null,
      "align_self": null,
      "border": null,
      "bottom": null,
      "display": null,
      "flex": null,
      "flex_flow": null,
      "grid_area": null,
      "grid_auto_columns": null,
      "grid_auto_flow": null,
      "grid_auto_rows": null,
      "grid_column": null,
      "grid_gap": null,
      "grid_row": null,
      "grid_template_areas": null,
      "grid_template_columns": null,
      "grid_template_rows": null,
      "height": null,
      "justify_content": null,
      "justify_items": null,
      "left": null,
      "margin": null,
      "max_height": null,
      "max_width": null,
      "min_height": null,
      "min_width": null,
      "object_fit": null,
      "object_position": null,
      "order": null,
      "overflow": null,
      "overflow_x": null,
      "overflow_y": null,
      "padding": null,
      "right": null,
      "top": null,
      "visibility": null,
      "width": null
     }
    },
    "e4ad44cba2fc4a9886bedd8125d5fbb7": {
     "model_module": "@jupyter-widgets/controls",
     "model_module_version": "1.5.0",
     "model_name": "ProgressStyleModel",
     "state": {
      "_model_module": "@jupyter-widgets/controls",
      "_model_module_version": "1.5.0",
      "_model_name": "ProgressStyleModel",
      "_view_count": null,
      "_view_module": "@jupyter-widgets/base",
      "_view_module_version": "1.2.0",
      "_view_name": "StyleView",
      "bar_color": null,
      "description_width": ""
     }
    },
    "f407c340fdf14aa88f2e6e09e4cc364e": {
     "model_module": "@jupyter-widgets/base",
     "model_module_version": "1.2.0",
     "model_name": "LayoutModel",
     "state": {
      "_model_module": "@jupyter-widgets/base",
      "_model_module_version": "1.2.0",
      "_model_name": "LayoutModel",
      "_view_count": null,
      "_view_module": "@jupyter-widgets/base",
      "_view_module_version": "1.2.0",
      "_view_name": "LayoutView",
      "align_content": null,
      "align_items": null,
      "align_self": null,
      "border": null,
      "bottom": null,
      "display": null,
      "flex": null,
      "flex_flow": null,
      "grid_area": null,
      "grid_auto_columns": null,
      "grid_auto_flow": null,
      "grid_auto_rows": null,
      "grid_column": null,
      "grid_gap": null,
      "grid_row": null,
      "grid_template_areas": null,
      "grid_template_columns": null,
      "grid_template_rows": null,
      "height": null,
      "justify_content": null,
      "justify_items": null,
      "left": null,
      "margin": null,
      "max_height": null,
      "max_width": null,
      "min_height": null,
      "min_width": null,
      "object_fit": null,
      "object_position": null,
      "order": null,
      "overflow": null,
      "overflow_x": null,
      "overflow_y": null,
      "padding": null,
      "right": null,
      "top": null,
      "visibility": null,
      "width": null
     }
    },
    "f423cf7bb79d482dbae7fb0349589836": {
     "model_module": "@jupyter-widgets/controls",
     "model_module_version": "1.5.0",
     "model_name": "DescriptionStyleModel",
     "state": {
      "_model_module": "@jupyter-widgets/controls",
      "_model_module_version": "1.5.0",
      "_model_name": "DescriptionStyleModel",
      "_view_count": null,
      "_view_module": "@jupyter-widgets/base",
      "_view_module_version": "1.2.0",
      "_view_name": "StyleView",
      "description_width": ""
     }
    },
    "f4f44c9430f94247b9a7fdf405cde329": {
     "model_module": "@jupyter-widgets/controls",
     "model_module_version": "1.5.0",
     "model_name": "FloatProgressModel",
     "state": {
      "_dom_classes": [],
      "_model_module": "@jupyter-widgets/controls",
      "_model_module_version": "1.5.0",
      "_model_name": "FloatProgressModel",
      "_view_count": null,
      "_view_module": "@jupyter-widgets/controls",
      "_view_module_version": "1.5.0",
      "_view_name": "ProgressView",
      "bar_style": "success",
      "description": "",
      "description_tooltip": null,
      "layout": "IPY_MODEL_135faf1160394cc686738bdbfc57d63d",
      "max": 798293,
      "min": 0,
      "orientation": "horizontal",
      "style": "IPY_MODEL_7c0d9ee8bada4d9baa8d1815a8a606e2",
      "value": 798293
     }
    },
    "f897ea6936024431aa1928dfdce3440b": {
     "model_module": "@jupyter-widgets/controls",
     "model_module_version": "1.5.0",
     "model_name": "ProgressStyleModel",
     "state": {
      "_model_module": "@jupyter-widgets/controls",
      "_model_module_version": "1.5.0",
      "_model_name": "ProgressStyleModel",
      "_view_count": null,
      "_view_module": "@jupyter-widgets/base",
      "_view_module_version": "1.2.0",
      "_view_name": "StyleView",
      "bar_color": null,
      "description_width": ""
     }
    },
    "fa81cea32e2542579f1435723c66e983": {
     "model_module": "@jupyter-widgets/controls",
     "model_module_version": "1.5.0",
     "model_name": "HTMLModel",
     "state": {
      "_dom_classes": [],
      "_model_module": "@jupyter-widgets/controls",
      "_model_module_version": "1.5.0",
      "_model_name": "HTMLModel",
      "_view_count": null,
      "_view_module": "@jupyter-widgets/controls",
      "_view_module_version": "1.5.0",
      "_view_name": "HTMLView",
      "description": "",
      "description_tooltip": null,
      "layout": "IPY_MODEL_ddd9a857d9f246f5aa26a70968f18855",
      "placeholder": "​",
      "style": "IPY_MODEL_f423cf7bb79d482dbae7fb0349589836",
      "value": "Downloading (…)cial_tokens_map.json: 100%"
     }
    },
    "fed70c9191c3455aa271c0d1ac3e0fe2": {
     "model_module": "@jupyter-widgets/controls",
     "model_module_version": "1.5.0",
     "model_name": "HTMLModel",
     "state": {
      "_dom_classes": [],
      "_model_module": "@jupyter-widgets/controls",
      "_model_module_version": "1.5.0",
      "_model_name": "HTMLModel",
      "_view_count": null,
      "_view_module": "@jupyter-widgets/controls",
      "_view_module_version": "1.5.0",
      "_view_name": "HTMLView",
      "description": "",
      "description_tooltip": null,
      "layout": "IPY_MODEL_4f7392910dea4913b53278735c2c7f5d",
      "placeholder": "​",
      "style": "IPY_MODEL_3294a60acb804919ad7ad4479e6fc1a4",
      "value": " 239/239 [00:00&lt;00:00, 6.49kB/s]"
     }
    },
    "fee1707bcedc4c09bdb60a3e03437959": {
     "model_module": "@jupyter-widgets/controls",
     "model_module_version": "1.5.0",
     "model_name": "HBoxModel",
     "state": {
      "_dom_classes": [],
      "_model_module": "@jupyter-widgets/controls",
      "_model_module_version": "1.5.0",
      "_model_name": "HBoxModel",
      "_view_count": null,
      "_view_module": "@jupyter-widgets/controls",
      "_view_module_version": "1.5.0",
      "_view_name": "HBoxView",
      "box_style": "",
      "children": [
       "IPY_MODEL_a95c077e4d854359bff02a1d5845e0a3",
       "IPY_MODEL_044683aeef824621b746ca722ee268d2",
       "IPY_MODEL_030e085671ff41318a2593c5f2f1067a"
      ],
      "layout": "IPY_MODEL_cc6f0d9520304163a85e958c86f82817"
     }
    }
   }
  }
 },
 "nbformat": 4,
 "nbformat_minor": 1
}
