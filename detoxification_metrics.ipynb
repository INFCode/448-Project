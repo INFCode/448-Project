{
  "cells": [
    {
      "cell_type": "markdown",
      "metadata": {
        "id": "Z2WtglGzGg4-"
      },
      "source": [
        "**ATTENTION!!!**\n",
        "BE SURE that your runtime is GPU."
      ]
    },
    {
      "cell_type": "code",
      "execution_count": null,
      "metadata": {
        "id": "EPEiLVg2Fsxc"
      },
      "outputs": [],
      "source": [
        "# if you are using this script on server you can specify th visible free cuda device\n",
        "# the memory usage of devices and their id can be checked with 'nvidia-smi' or 'nvidia-cdl' commands \n",
        "\n",
        "# import os\n",
        "# os.environ['CUDA_VISIBLE_DEVICES'] = '2' # here the id of the device"
      ]
    },
    {
      "cell_type": "markdown",
      "metadata": {
        "id": "WrUkltbKLWq2"
      },
      "source": [
        "### Cloning repo from git\n",
        "\n",
        "This operation requires that you have access to the repo [paradetox](https://github.com/skoltech-nlp/paradetox/).\n",
        "\n",
        "Generate (or use already existing) your GitHub access token. \n",
        "\n",
        "If you need to generate new one, you can use the [instruction](https://docs.github.com/en/authentication/keeping-your-account-and-data-secure/creating-a-personal-access-token)."
      ]
    },
    {
      "cell_type": "code",
      "execution_count": null,
      "metadata": {
        "colab": {
          "base_uri": "https://localhost:8080/"
        },
        "id": "l9yHshi88fj3",
        "outputId": "2d6dbcf6-893e-4d00-f7fe-eeb1ad5fdd57"
      },
      "outputs": [
        {
          "name": "stdout",
          "output_type": "stream",
          "text": [
            "/bin/bash: YOUR_TOKEN_HERE: No such file or directory\n"
          ]
        }
      ],
      "source": [
        "!git clone https://<YOUR_TOKEN_HERE>@github.com/skoltech-nlp/paradetox.git"
      ]
    },
    {
      "cell_type": "markdown",
      "metadata": {
        "id": "gQbDSz4nLnus"
      },
      "source": [
        "### Installing required libs"
      ]
    },
    {
      "cell_type": "code",
      "execution_count": null,
      "metadata": {
        "id": "NmxgPN3Z82Bp"
      },
      "outputs": [],
      "source": [
        "!pip install transformers\n",
        "!pip install python-box\n",
        "!pip install flair\n",
        "!pip install fairseq\n",
        "!pip install sentencepiece\n",
        "!pip install sacremoses"
      ]
    },
    {
      "cell_type": "markdown",
      "metadata": {
        "id": "f32tgC7CML2j"
      },
      "source": [
        "### Preparing input and args"
      ]
    },
    {
      "cell_type": "code",
      "execution_count": null,
      "metadata": {
        "id": "7fg8fMjD-AL2"
      },
      "outputs": [],
      "source": [
        "from box import Box"
      ]
    },
    {
      "cell_type": "code",
      "execution_count": null,
      "metadata": {
        "id": "m7Pp-k-391VB"
      },
      "outputs": [],
      "source": [
        "args = Box({\n",
        "    'batch_size': 32,\n",
        "    'cola_classifier_path': '/content/drive/MyDrive/style_transfer/cola_classifier',\n",
        "    'wieting_tokenizer_path': 'sim.sp.30k.model',\n",
        "    'wieting_model_path': 'sim.pt',\n",
        "    't1': 75., # this is default value\n",
        "    't2': 70., # this is default value\n",
        "    't3': 12. # this is default value\n",
        "})"
      ]
    },
    {
      "cell_type": "code",
      "execution_count": null,
      "metadata": {
        "id": "UUmnKm0_-Ku_"
      },
      "outputs": [],
      "source": [
        "# test example\n",
        "# TODO: load you data here\n",
        "# preds: output, inputs: input\n",
        "preds = [\n",
        "    'you are fucker',\n",
        "    'you are fucker',\n",
        "    'you are fucker'\n",
        "]\n",
        "\n",
        "inputs = [\n",
        "    'you are motherfucker',\n",
        "    'you are amazing',\n",
        "    'you are fucker'\n",
        "]"
      ]
    },
    {
      "cell_type": "markdown",
      "metadata": {
        "id": "mTPou3kvL5E6"
      },
      "source": [
        "### Style Transfer Accuracy metric"
      ]
    },
    {
      "cell_type": "code",
      "execution_count": null,
      "metadata": {
        "id": "Me8h2mPi8qaP"
      },
      "outputs": [],
      "source": [
        "from paradetox.evaluation_detox.metric_tools.style_transfer_accuracy import classify_preds\n",
        "import numpy as np"
      ]
    },
    {
      "cell_type": "code",
      "execution_count": null,
      "metadata": {
        "id": "SFfryAYz80iq"
      },
      "outputs": [],
      "source": [
        "accuracy_by_sent = classify_preds(args, preds)\n",
        "accuracy = np.mean(accuracy_by_sent)\n",
        "print('\\n')\n",
        "print(accuracy)"
      ]
    },
    {
      "cell_type": "markdown",
      "metadata": {
        "id": "pvymGu7_L8wh"
      },
      "source": [
        "### Content Similarity metrics"
      ]
    },
    {
      "cell_type": "markdown",
      "metadata": {
        "id": "ztTxHuXvMq_U"
      },
      "source": [
        "Aditional data download"
      ]
    },
    {
      "cell_type": "code",
      "execution_count": null,
      "metadata": {
        "colab": {
          "base_uri": "https://localhost:8080/"
        },
        "id": "eYW-rtv3_xF9",
        "outputId": "c93a3e4f-ca2c-4621-f464-2b8bca645ca2"
      },
      "outputs": [
        {
          "name": "stdout",
          "output_type": "stream",
          "text": [
            "--2021-10-12 11:48:37--  https://storage.yandexcloud.net/nlp/wieting_similarity_data.zip\n",
            "Resolving storage.yandexcloud.net (storage.yandexcloud.net)... 213.180.193.243, 2a02:6b8::1d9\n",
            "Connecting to storage.yandexcloud.net (storage.yandexcloud.net)|213.180.193.243|:443... connected.\n",
            "HTTP request sent, awaiting response... 200 OK\n",
            "Length: 74066204 (71M) [application/x-zip-compressed]\n",
            "Saving to: ‘wieting_similarity_data.zip’\n",
            "\n",
            "wieting_similarity_ 100%[===================>]  70.63M  9.93MB/s    in 9.1s    \n",
            "\n",
            "2021-10-12 11:48:48 (7.72 MB/s) - ‘wieting_similarity_data.zip’ saved [74066204/74066204]\n",
            "\n",
            "Archive:  wieting_similarity_data.zip\n",
            "  inflating: sim.pt                  \n",
            "  inflating: sim.sp.30k.model        \n"
          ]
        }
      ],
      "source": [
        "!wget https://storage.yandexcloud.net/nlp/wieting_similarity_data.zip\n",
        "!unzip wieting_similarity_data.zip"
      ]
    },
    {
      "cell_type": "code",
      "execution_count": null,
      "metadata": {
        "id": "pagte5yb-R7R"
      },
      "outputs": [],
      "source": [
        "from paradetox.evaluation_detox.metric_tools.content_similarity import calc_bleu\n",
        "from paradetox.evaluation_detox.metric_tools.content_similarity import flair_sim\n",
        "from paradetox.evaluation_detox.metric_tools.content_similarity import wieting_sim"
      ]
    },
    {
      "cell_type": "code",
      "execution_count": null,
      "metadata": {
        "colab": {
          "base_uri": "https://localhost:8080/"
        },
        "id": "4oLdRB85_VOj",
        "outputId": "e7e3acd2-1b99-42fe-bef3-4dc2db2c9c81"
      },
      "outputs": [
        {
          "name": "stdout",
          "output_type": "stream",
          "text": [
            "Calculating BLEU similarity\n"
          ]
        }
      ],
      "source": [
        "bleu = calc_bleu(inputs, preds)\n",
        "print('\\n')\n",
        "print(bleu)"
      ]
    },
    {
      "cell_type": "code",
      "execution_count": null,
      "metadata": {
        "colab": {
          "base_uri": "https://localhost:8080/"
        },
        "id": "D7Fvg_vB_iE9",
        "outputId": "fd92f359-f496-437d-ae77-f0ed4e5b7720"
      },
      "outputs": [
        {
          "name": "stdout",
          "output_type": "stream",
          "text": [
            "Calculating flair embeddings similarity\n",
            "2021-10-12 11:48:52,917 https://flair.informatik.hu-berlin.de/resources/embeddings/flair/news-forward-0.4.1.pt not found in cache, downloading to /tmp/tmpgur_rqg4\n"
          ]
        },
        {
          "name": "stderr",
          "output_type": "stream",
          "text": [
            "100%|██████████| 73034624/73034624 [00:09<00:00, 7515429.45B/s]"
          ]
        },
        {
          "name": "stdout",
          "output_type": "stream",
          "text": [
            "2021-10-12 11:49:03,483 copying /tmp/tmpgur_rqg4 to cache at /root/.flair/embeddings/news-forward-0.4.1.pt\n"
          ]
        },
        {
          "name": "stderr",
          "output_type": "stream",
          "text": [
            "\n"
          ]
        },
        {
          "name": "stdout",
          "output_type": "stream",
          "text": [
            "2021-10-12 11:49:03,585 removing temp file /tmp/tmpgur_rqg4\n"
          ]
        }
      ],
      "source": [
        "emb_sim_stats = flair_sim(args, inputs, preds)\n",
        "emb_sim = emb_sim_stats.mean()\n",
        "print('\\n')\n",
        "print(emb_sim)"
      ]
    },
    {
      "cell_type": "code",
      "execution_count": null,
      "metadata": {
        "colab": {
          "base_uri": "https://localhost:8080/"
        },
        "id": "pNNr5bJDAMkj",
        "outputId": "47099c34-0522-4fb7-b69e-42bdc37c93b4"
      },
      "outputs": [
        {
          "name": "stdout",
          "output_type": "stream",
          "text": [
            "Calculating similarity by Wieting subword-embedding SIM model\n"
          ]
        },
        {
          "name": "stderr",
          "output_type": "stream",
          "text": [
            "100%|██████████| 1/1 [00:00<00:00, 25.68it/s]\n"
          ]
        }
      ],
      "source": [
        "similarity_by_sent = wieting_sim(args, inputs, preds)\n",
        "avg_sim_by_sent = similarity_by_sent.mean()\n",
        "print('\\n')\n",
        "print(avg_sim_by_sent)"
      ]
    },
    {
      "cell_type": "markdown",
      "metadata": {
        "id": "mFz75AvaMBQo"
      },
      "source": [
        "### Fluency metrics"
      ]
    },
    {
      "cell_type": "markdown",
      "metadata": {
        "id": "_9GMGqi7NQtq"
      },
      "source": [
        "Additional data preparation:\n",
        "\n",
        "This part requires CoLa classifier obtained from [here](https://drive.google.com/drive/folders/1p6_3lCbw3J0MhlidvKkRbG73qwmtWuRp). \n",
        "\n",
        "IF YOU ARE WORKING IN COLAB: You need to open the link and add the folder `cola_classifier` as an shortcut to your drive (you can allocate shortcut in any place of your drive). The next cell will mount your drive to the current Colab session. You need to specify path of your CoLa shortcut in args `cola_classifier_path`.\n",
        "\n",
        "IF YOU ARE WORKING ON LOCAL MACHINE: download and unzip the folder from the link and specify the path to the unpacked folder below."
      ]
    },
    {
      "cell_type": "code",
      "execution_count": null,
      "metadata": {
        "colab": {
          "base_uri": "https://localhost:8080/"
        },
        "id": "CBvKgRhZAOpH",
        "outputId": "5876c0b4-034e-459d-8305-ebf4b7dfdbd4"
      },
      "outputs": [
        {
          "name": "stdout",
          "output_type": "stream",
          "text": [
            "Mounted at /content/drive\n"
          ]
        }
      ],
      "source": [
        "# if you are working in colab, mount your drive\n",
        "from google.colab import drive\n",
        "drive.mount('/content/drive', force_remount=True)"
      ]
    },
    {
      "cell_type": "code",
      "execution_count": null,
      "metadata": {
        "id": "6AZOm6r-OKZ4"
      },
      "outputs": [],
      "source": [
        "args = Box({\n",
        "    'batch_size': 32,\n",
        "    'cola_classifier_path': '/content/drive/MyDrive/style_transfer/cola_classifier', #TODO: put your path here\n",
        "    'wieting_tokenizer_path': 'sim.sp.30k.model',\n",
        "    'wieting_model_path': 'sim.pt',\n",
        "    't1': 75., # this is default value\n",
        "    't2': 70., # this is default value\n",
        "    't3': 12. # this is default value\n",
        "})"
      ]
    },
    {
      "cell_type": "code",
      "execution_count": null,
      "metadata": {
        "id": "wEjn92c0-21c"
      },
      "outputs": [],
      "source": [
        "from paradetox.evaluation_detox.metric_tools.fluency import calc_flair_ppl\n",
        "from paradetox.evaluation_detox.metric_tools.fluency import calc_gpt_ppl\n",
        "from paradetox.evaluation_detox.metric_tools.fluency import do_cola_eval"
      ]
    },
    {
      "cell_type": "code",
      "execution_count": null,
      "metadata": {
        "colab": {
          "base_uri": "https://localhost:8080/"
        },
        "id": "LDGKOnR1_yiZ",
        "outputId": "8060502b-542d-46f0-8604-eda59ef9274e"
      },
      "outputs": [
        {
          "name": "stdout",
          "output_type": "stream",
          "text": [
            "Calculating character-level perplexity\n"
          ]
        }
      ],
      "source": [
        "char_ppl = calc_flair_ppl(preds)\n",
        "print('\\n')\n",
        "print(char_ppl)"
      ]
    },
    {
      "cell_type": "code",
      "execution_count": null,
      "metadata": {
        "colab": {
          "base_uri": "https://localhost:8080/",
          "height": 211,
          "referenced_widgets": [
            "d0f39500ce364496a59ba4287b350c61",
            "63e9d8d2343c40aa854053e19c248c31",
            "b905d54c022a4deb96c66190711cfa75",
            "a44d2526284f4f63b22a020dede08926",
            "160ab4a423b94f1f9f99e003403c060d",
            "27390f2e84984f279bb566ce86d6daef",
            "439ba84d0bb4463e8fc8665314a2bc1e",
            "e4ad44cba2fc4a9886bedd8125d5fbb7",
            "845a2c7e201c40e0873f05dbf8858776",
            "bd74d4ef0f8b4fdf87c7bf5a6131e7ef",
            "8fb5b42510db421295ff98dfdba80904",
            "13124a11c58b4ded9d92ad1dbce1b971",
            "12d2d675db2c4686938bc4e3c3d7efa4",
            "bd37bd025e914e73a8c23f6cf73e943d",
            "1ecbf1ede3c042cebac76deaaa0a8443"
          ]
        },
        "id": "kyIU5fQeAMtc",
        "outputId": "1dcbcf79-ae74-472e-9400-395881609479"
      },
      "outputs": [
        {
          "name": "stdout",
          "output_type": "stream",
          "text": [
            "Calculating token-level perplexity\n"
          ]
        },
        {
          "data": {
            "application/vnd.jupyter.widget-view+json": {
              "model_id": "d0f39500ce364496a59ba4287b350c61",
              "version_major": 2,
              "version_minor": 0
            },
            "text/plain": [
              "Downloading:   0%|          | 0.00/718 [00:00<?, ?B/s]"
            ]
          },
          "metadata": {},
          "output_type": "display_data"
        },
        {
          "data": {
            "application/vnd.jupyter.widget-view+json": {
              "model_id": "13124a11c58b4ded9d92ad1dbce1b971",
              "version_major": 2,
              "version_minor": 0
            },
            "text/plain": [
              "Downloading:   0%|          | 0.00/1.42G [00:00<?, ?B/s]"
            ]
          },
          "metadata": {},
          "output_type": "display_data"
        },
        {
          "data": {
            "application/vnd.jupyter.widget-view+json": {
              "model_id": "12d2d675db2c4686938bc4e3c3d7efa4",
              "version_major": 2,
              "version_minor": 0
            },
            "text/plain": [
              "Downloading:   0%|          | 0.00/0.99M [00:00<?, ?B/s]"
            ]
          },
          "metadata": {},
          "output_type": "display_data"
        },
        {
          "data": {
            "application/vnd.jupyter.widget-view+json": {
              "model_id": "bd37bd025e914e73a8c23f6cf73e943d",
              "version_major": 2,
              "version_minor": 0
            },
            "text/plain": [
              "Downloading:   0%|          | 0.00/446k [00:00<?, ?B/s]"
            ]
          },
          "metadata": {},
          "output_type": "display_data"
        },
        {
          "data": {
            "application/vnd.jupyter.widget-view+json": {
              "model_id": "1ecbf1ede3c042cebac76deaaa0a8443",
              "version_major": 2,
              "version_minor": 0
            },
            "text/plain": [
              "Downloading:   0%|          | 0.00/1.29M [00:00<?, ?B/s]"
            ]
          },
          "metadata": {},
          "output_type": "display_data"
        },
        {
          "name": "stderr",
          "output_type": "stream",
          "text": [
            "100%|██████████| 3/3 [00:00<00:00, 14.10it/s]\n"
          ]
        }
      ],
      "source": [
        "token_ppl = calc_gpt_ppl(preds)\n",
        "print('\\n')\n",
        "print(token_ppl)"
      ]
    },
    {
      "cell_type": "code",
      "execution_count": null,
      "metadata": {
        "colab": {
          "base_uri": "https://localhost:8080/"
        },
        "id": "Ozmsf7TbDXRw",
        "outputId": "08f8be72-b938-4a19-e0e9-acaae15bf1cf"
      },
      "outputs": [
        {
          "name": "stdout",
          "output_type": "stream",
          "text": [
            "Calculating CoLA acceptability stats\n"
          ]
        },
        {
          "name": "stderr",
          "output_type": "stream",
          "text": [
            "1042301B [00:00, 1087865.62B/s]\n",
            "456318B [00:00, 625495.78B/s]\n",
            "1it [00:00, 10.30it/s]\n"
          ]
        }
      ],
      "source": [
        "cola_stats = do_cola_eval(args, preds)\n",
        "cola_acc = sum(cola_stats) / len(preds)\n",
        "print('\\n')\n",
        "print(cola_acc)"
      ]
    },
    {
      "attachments": {},
      "cell_type": "markdown",
      "metadata": {
        "id": "Scl5yVj4Q_NI"
      },
      "source": [
        "### Joint metrics"
      ]
    },
    {
      "cell_type": "code",
      "execution_count": null,
      "metadata": {
        "id": "eKae0vRSO57u"
      },
      "outputs": [],
      "source": [
        "from paradetox.evaluation_detox.metric_tools.joint_metrics import *"
      ]
    },
    {
      "cell_type": "code",
      "execution_count": null,
      "metadata": {
        "id": "ObrSZHuiRTLM"
      },
      "outputs": [],
      "source": [
        "gm = get_gm(args, accuracy, emb_sim, char_ppl)\n",
        "print(gm)\n",
        "joint = get_j(args, accuracy_by_sent, similarity_by_sent, cola_stats, preds)\n",
        "print(joint)"
      ]
    },
    {
      "cell_type": "markdown",
      "metadata": {
        "id": "qkwdPDmTRuKF"
      },
      "source": [
        "### Saving all results"
      ]
    },
    {
      "cell_type": "markdown",
      "metadata": {
        "id": "bScWwrlpRwU0"
      },
      "source": [
        "If you obtained all above metrics, you can use this code for pretty results saving:"
      ]
    },
    {
      "cell_type": "code",
      "execution_count": null,
      "metadata": {
        "id": "nFPBb6SRUTu6"
      },
      "outputs": [],
      "source": [
        "import os"
      ]
    },
    {
      "cell_type": "code",
      "execution_count": null,
      "metadata": {
        "id": "KDbu1R9JRwDg"
      },
      "outputs": [],
      "source": [
        "if not os.path.exists('results.md'):\n",
        "    with open('results.md', 'w') as f:\n",
        "        f.writelines('| Model | ACC | EMB_SIM | SIM | CharPPL | TokenPPL | FL | GM | J | BLEU |\\n')\n",
        "        f.writelines('| ----- | --- | ------- | --- | ------- | -------- | -- | -- | - | ---- |\\n')\n",
        "        \n",
        "with open('results.md', 'a') as res_file:\n",
        "    name = 'TEST' # you can put the specific name of the model\n",
        "    res_file.writelines(f'{name}|{accuracy:.4f}|{emb_sim:.4f}|{avg_sim_by_sent:.4f}|{char_ppl:.4f}|'\n",
        "                        f'{token_ppl:.4f}|{cola_acc:.4f}|{gm:.4f}|{joint:.4f}|{bleu:.4f}|\\n')"
      ]
    },
    {
      "cell_type": "code",
      "execution_count": null,
      "metadata": {
        "id": "BiJimrhKUKrI"
      },
      "outputs": [],
      "source": []
    }
  ],
  "metadata": {
    "accelerator": "GPU",
    "colab": {
      "provenance": []
    },
    "kernelspec": {
      "display_name": "Python 3",
      "name": "python3"
    },
    "language_info": {
      "name": "python"
    },
    "widgets": {
      "application/vnd.jupyter.widget-state+json": {
        "160ab4a423b94f1f9f99e003403c060d": {
          "model_module": "@jupyter-widgets/controls",
          "model_module_version": "1.5.0",
          "model_name": "HTMLModel",
          "state": {
            "_dom_classes": [],
            "_model_module": "@jupyter-widgets/controls",
            "_model_module_version": "1.5.0",
            "_model_name": "HTMLModel",
            "_view_count": null,
            "_view_module": "@jupyter-widgets/controls",
            "_view_module_version": "1.5.0",
            "_view_name": "HTMLView",
            "description": "",
            "description_tooltip": null,
            "layout": "IPY_MODEL_8fb5b42510db421295ff98dfdba80904",
            "placeholder": "​",
            "style": "IPY_MODEL_bd74d4ef0f8b4fdf87c7bf5a6131e7ef",
            "value": " 718/718 [00:00&lt;00:00, 16.6kB/s]"
          }
        },
        "27390f2e84984f279bb566ce86d6daef": {
          "model_module": "@jupyter-widgets/controls",
          "model_module_version": "1.5.0",
          "model_name": "DescriptionStyleModel",
          "state": {
            "_model_module": "@jupyter-widgets/controls",
            "_model_module_version": "1.5.0",
            "_model_name": "DescriptionStyleModel",
            "_view_count": null,
            "_view_module": "@jupyter-widgets/base",
            "_view_module_version": "1.2.0",
            "_view_name": "StyleView",
            "description_width": ""
          }
        },
        "439ba84d0bb4463e8fc8665314a2bc1e": {
          "model_module": "@jupyter-widgets/base",
          "model_module_version": "1.2.0",
          "model_name": "LayoutModel",
          "state": {
            "_model_module": "@jupyter-widgets/base",
            "_model_module_version": "1.2.0",
            "_model_name": "LayoutModel",
            "_view_count": null,
            "_view_module": "@jupyter-widgets/base",
            "_view_module_version": "1.2.0",
            "_view_name": "LayoutView",
            "align_content": null,
            "align_items": null,
            "align_self": null,
            "border": null,
            "bottom": null,
            "display": null,
            "flex": null,
            "flex_flow": null,
            "grid_area": null,
            "grid_auto_columns": null,
            "grid_auto_flow": null,
            "grid_auto_rows": null,
            "grid_column": null,
            "grid_gap": null,
            "grid_row": null,
            "grid_template_areas": null,
            "grid_template_columns": null,
            "grid_template_rows": null,
            "height": null,
            "justify_content": null,
            "justify_items": null,
            "left": null,
            "margin": null,
            "max_height": null,
            "max_width": null,
            "min_height": null,
            "min_width": null,
            "object_fit": null,
            "object_position": null,
            "order": null,
            "overflow": null,
            "overflow_x": null,
            "overflow_y": null,
            "padding": null,
            "right": null,
            "top": null,
            "visibility": null,
            "width": null
          }
        },
        "63e9d8d2343c40aa854053e19c248c31": {
          "model_module": "@jupyter-widgets/base",
          "model_module_version": "1.2.0",
          "model_name": "LayoutModel",
          "state": {
            "_model_module": "@jupyter-widgets/base",
            "_model_module_version": "1.2.0",
            "_model_name": "LayoutModel",
            "_view_count": null,
            "_view_module": "@jupyter-widgets/base",
            "_view_module_version": "1.2.0",
            "_view_name": "LayoutView",
            "align_content": null,
            "align_items": null,
            "align_self": null,
            "border": null,
            "bottom": null,
            "display": null,
            "flex": null,
            "flex_flow": null,
            "grid_area": null,
            "grid_auto_columns": null,
            "grid_auto_flow": null,
            "grid_auto_rows": null,
            "grid_column": null,
            "grid_gap": null,
            "grid_row": null,
            "grid_template_areas": null,
            "grid_template_columns": null,
            "grid_template_rows": null,
            "height": null,
            "justify_content": null,
            "justify_items": null,
            "left": null,
            "margin": null,
            "max_height": null,
            "max_width": null,
            "min_height": null,
            "min_width": null,
            "object_fit": null,
            "object_position": null,
            "order": null,
            "overflow": null,
            "overflow_x": null,
            "overflow_y": null,
            "padding": null,
            "right": null,
            "top": null,
            "visibility": null,
            "width": null
          }
        },
        "845a2c7e201c40e0873f05dbf8858776": {
          "model_module": "@jupyter-widgets/base",
          "model_module_version": "1.2.0",
          "model_name": "LayoutModel",
          "state": {
            "_model_module": "@jupyter-widgets/base",
            "_model_module_version": "1.2.0",
            "_model_name": "LayoutModel",
            "_view_count": null,
            "_view_module": "@jupyter-widgets/base",
            "_view_module_version": "1.2.0",
            "_view_name": "LayoutView",
            "align_content": null,
            "align_items": null,
            "align_self": null,
            "border": null,
            "bottom": null,
            "display": null,
            "flex": null,
            "flex_flow": null,
            "grid_area": null,
            "grid_auto_columns": null,
            "grid_auto_flow": null,
            "grid_auto_rows": null,
            "grid_column": null,
            "grid_gap": null,
            "grid_row": null,
            "grid_template_areas": null,
            "grid_template_columns": null,
            "grid_template_rows": null,
            "height": null,
            "justify_content": null,
            "justify_items": null,
            "left": null,
            "margin": null,
            "max_height": null,
            "max_width": null,
            "min_height": null,
            "min_width": null,
            "object_fit": null,
            "object_position": null,
            "order": null,
            "overflow": null,
            "overflow_x": null,
            "overflow_y": null,
            "padding": null,
            "right": null,
            "top": null,
            "visibility": null,
            "width": null
          }
        },
        "8fb5b42510db421295ff98dfdba80904": {
          "model_module": "@jupyter-widgets/base",
          "model_module_version": "1.2.0",
          "model_name": "LayoutModel",
          "state": {
            "_model_module": "@jupyter-widgets/base",
            "_model_module_version": "1.2.0",
            "_model_name": "LayoutModel",
            "_view_count": null,
            "_view_module": "@jupyter-widgets/base",
            "_view_module_version": "1.2.0",
            "_view_name": "LayoutView",
            "align_content": null,
            "align_items": null,
            "align_self": null,
            "border": null,
            "bottom": null,
            "display": null,
            "flex": null,
            "flex_flow": null,
            "grid_area": null,
            "grid_auto_columns": null,
            "grid_auto_flow": null,
            "grid_auto_rows": null,
            "grid_column": null,
            "grid_gap": null,
            "grid_row": null,
            "grid_template_areas": null,
            "grid_template_columns": null,
            "grid_template_rows": null,
            "height": null,
            "justify_content": null,
            "justify_items": null,
            "left": null,
            "margin": null,
            "max_height": null,
            "max_width": null,
            "min_height": null,
            "min_width": null,
            "object_fit": null,
            "object_position": null,
            "order": null,
            "overflow": null,
            "overflow_x": null,
            "overflow_y": null,
            "padding": null,
            "right": null,
            "top": null,
            "visibility": null,
            "width": null
          }
        },
        "a44d2526284f4f63b22a020dede08926": {
          "model_module": "@jupyter-widgets/controls",
          "model_module_version": "1.5.0",
          "model_name": "FloatProgressModel",
          "state": {
            "_dom_classes": [],
            "_model_module": "@jupyter-widgets/controls",
            "_model_module_version": "1.5.0",
            "_model_name": "FloatProgressModel",
            "_view_count": null,
            "_view_module": "@jupyter-widgets/controls",
            "_view_module_version": "1.5.0",
            "_view_name": "ProgressView",
            "bar_style": "success",
            "description": "",
            "description_tooltip": null,
            "layout": "IPY_MODEL_845a2c7e201c40e0873f05dbf8858776",
            "max": 718,
            "min": 0,
            "orientation": "horizontal",
            "style": "IPY_MODEL_e4ad44cba2fc4a9886bedd8125d5fbb7",
            "value": 718
          }
        },
        "b905d54c022a4deb96c66190711cfa75": {
          "model_module": "@jupyter-widgets/controls",
          "model_module_version": "1.5.0",
          "model_name": "HTMLModel",
          "state": {
            "_dom_classes": [],
            "_model_module": "@jupyter-widgets/controls",
            "_model_module_version": "1.5.0",
            "_model_name": "HTMLModel",
            "_view_count": null,
            "_view_module": "@jupyter-widgets/controls",
            "_view_module_version": "1.5.0",
            "_view_name": "HTMLView",
            "description": "",
            "description_tooltip": null,
            "layout": "IPY_MODEL_439ba84d0bb4463e8fc8665314a2bc1e",
            "placeholder": "​",
            "style": "IPY_MODEL_27390f2e84984f279bb566ce86d6daef",
            "value": "Downloading: 100%"
          }
        },
        "bd74d4ef0f8b4fdf87c7bf5a6131e7ef": {
          "model_module": "@jupyter-widgets/controls",
          "model_module_version": "1.5.0",
          "model_name": "DescriptionStyleModel",
          "state": {
            "_model_module": "@jupyter-widgets/controls",
            "_model_module_version": "1.5.0",
            "_model_name": "DescriptionStyleModel",
            "_view_count": null,
            "_view_module": "@jupyter-widgets/base",
            "_view_module_version": "1.2.0",
            "_view_name": "StyleView",
            "description_width": ""
          }
        },
        "d0f39500ce364496a59ba4287b350c61": {
          "model_module": "@jupyter-widgets/controls",
          "model_module_version": "1.5.0",
          "model_name": "HBoxModel",
          "state": {
            "_dom_classes": [],
            "_model_module": "@jupyter-widgets/controls",
            "_model_module_version": "1.5.0",
            "_model_name": "HBoxModel",
            "_view_count": null,
            "_view_module": "@jupyter-widgets/controls",
            "_view_module_version": "1.5.0",
            "_view_name": "HBoxView",
            "box_style": "",
            "children": [
              "IPY_MODEL_b905d54c022a4deb96c66190711cfa75",
              "IPY_MODEL_a44d2526284f4f63b22a020dede08926",
              "IPY_MODEL_160ab4a423b94f1f9f99e003403c060d"
            ],
            "layout": "IPY_MODEL_63e9d8d2343c40aa854053e19c248c31"
          }
        },
        "e4ad44cba2fc4a9886bedd8125d5fbb7": {
          "model_module": "@jupyter-widgets/controls",
          "model_module_version": "1.5.0",
          "model_name": "ProgressStyleModel",
          "state": {
            "_model_module": "@jupyter-widgets/controls",
            "_model_module_version": "1.5.0",
            "_model_name": "ProgressStyleModel",
            "_view_count": null,
            "_view_module": "@jupyter-widgets/base",
            "_view_module_version": "1.2.0",
            "_view_name": "StyleView",
            "bar_color": null,
            "description_width": ""
          }
        }
      }
    }
  },
  "nbformat": 4,
  "nbformat_minor": 0
}
